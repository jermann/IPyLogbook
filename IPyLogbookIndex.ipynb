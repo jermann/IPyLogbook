{
 "cells": [
  {
   "cell_type": "code",
   "execution_count": 1,
   "metadata": {
    "collapsed": false,
    "run_control": {
     "read_only": false
    }
   },
   "outputs": [],
   "source": [
    "import ConfigParser\n",
    "CP = ConfigParser.ConfigParser()\n",
    "CP.read(\".config\")\n",
    "head = CP.get('IPyLogbook-Config','head')\n",
    "url = CP.get('IPyLogbook-Config','url')\n",
    "port = CP.get('IPyLogbook-Config','ssh-port')\n",
    "name = CP.get('IPyLogbook-Config','name')\n",
    "\n",
    "admin = CP.get('IPyLogbook-Admin','admin')\n",
    "email = CP.get('IPyLogbook-Admin','email')\n",
    "contact = '[' + admin + '](mailto:' + email + ')'\n",
    "\n",
    "tree=\"[HEAD](\"+url+\":\"+port+\"/tree)\"\n",
    "manage=\"[Manage the logbook](\"+url+\":\"+port+\"/notebooks/IPyLogbook/mgmt/IPyLogbookManager.ipynb)\"\n",
    "usersguide=\"[Learn to use the logbook](\"+url+\":\"+port+\"/notebooks/IPyLogbook/doc/IPyLogbookUsersGuide.ipynb)\""
   ]
  },
  {
   "cell_type": "markdown",
   "metadata": {
    "variables": {
     "name": "Heart of Gold Experiment",
     "tree": "<a target=\"_blank\" href=\"http://localhost:8888/tree\">HEAD</a>"
    }
   },
   "source": [
    "#<center> The {{name}} IPyLogbook Index </center>\n",
    "\n",
    "| Experiment date | Experiment lead | Experiment summary |\n",
    "|:---------------:|:---------------:|--------------------|\n",
    "| {{tree}} | - | Open the top level of the Logbook directory hierarchy|"
   ]
  },
  {
   "cell_type": "markdown",
   "metadata": {
    "variables": {
     "manage": "<a target=\"_blank\" href=\"http://localhost:8888/notebooks/IPyLogbook/mgmt/IPyLogbookManager.ipynb\">Manage the logbook</a>",
     "usersguide": "<a target=\"_blank\" href=\"http://localhost:8888/notebooks/IPyLogbook/doc/IPyLogbookUsersGuide.ipynb\">Learn to use the logbook</a>"
    }
   },
   "source": [
    "<center> {{manage}} </center>  \n",
    "\n",
    "<center> {{usersguide}} </center>\n",
    "\n"
   ]
  },
  {
   "cell_type": "markdown",
   "metadata": {},
   "source": [
    "---"
   ]
  },
  {
   "cell_type": "markdown",
   "metadata": {
    "variables": {
     "contact": "<a target=\"_blank\" href=\"mailto:president@the-galaxy.com\">Zaphod Beeblebrox</a>"
    }
   },
   "source": [
    "<center> Please contact {{contact}} with issues/questions.</center>"
   ]
  }
 ],
 "metadata": {
  "hide_input": true,
  "kernelspec": {
   "display_name": "IPython (Python 2)",
   "name": "python2"
  },
  "language_info": {
   "codemirror_mode": {
    "name": "ipython",
    "version": 2
   },
   "file_extension": ".py",
   "mimetype": "text/x-python",
   "name": "python",
   "nbconvert_exporter": "python",
   "pygments_lexer": "ipython2",
   "version": "2.7.3"
  },
  "signature": "sha256:5b6622302db6802c769ff62e207ec4a0b9831e937f0f2c60d2c71b29a56e93b2"
 },
 "nbformat": 4,
 "nbformat_minor": 0
}