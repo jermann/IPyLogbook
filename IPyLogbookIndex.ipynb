{
 "cells": [
  {
   "cell_type": "code",
   "execution_count": 2,
   "metadata": {
    "collapsed": false,
    "run_control": {
     "read_only": false
    }
   },
   "outputs": [],
   "source": [
    "import ConfigParser\n",
    "CP = ConfigParser.ConfigParser()\n",
    "CP.read(\".config\")\n",
    "head = CP.get('IPyLogbook-Config','head')\n",
    "url = CP.get('IPyLogbook-Config','url')\n",
    "port = CP.get('IPyLogbook-Config','ssh-port')\n",
    "name = CP.get('IPyLogbook-Config','name')\n",
    "\n",
    "admin = CP.get('IPyLogbook-Admin','admin')\n",
    "emaikl\n",
    "\n",
    "\n",
    "tree=\"[HEAD](\"+url+\":\"+port+\"/tree)\"\n",
    "manage=\"[Manage the logbook](\"+url+\":\"+port+\"/notebooks/mgmt/IPyLogbookManager.ipynb)\"\n",
    "usersguide=\"[Learn to use the logbook](\"+url+\":\"+port+\"/notebooks/doc/IPyLogbookUsersGuide.ipynb)\""
   ]
  },
  {
   "cell_type": "markdown",
   "metadata": {
    "variables": {
     "name": "Alpha Experiment",
     "tree": "<a target=\"_blank\" href=\"http://localhost:8888/tree\">HEAD</a>"
    }
   },
   "source": [
    "#<center> The {{name}} IPython Logbook Index </center>\n",
    "\n",
    "| Experiment date | Experiment lead | Experiment summary |\n",
    "|:---------------:|:---------------:|--------------------|\n",
    "| {{tree}} | - | Open the top level of the Logbook directory hierarchy|"
   ]
  },
  {
   "cell_type": "markdown",
   "metadata": {
    "variables": {
     "manage": "<a target=\"_blank\" href=\"http://localhost:8888/notebooks/mgmt/IPyLogbookManager.ipynb\">Manage the logbook</a>",
     "usersguide": "<a target=\"_blank\" href=\"http://localhost:8888/notebooks/doc/IPyLogbookUsersGuide.ipynb\">Learn to use the logbook</a>"
    }
   },
   "source": [
    "<center> {{manage}} </center>  \n",
    "\n",
    "<center> {{usersguide}} </center>\n",
    "\n"
   ]
  },
  {
   "cell_type": "markdown",
   "metadata": {},
   "source": [
    "---"
   ]
  },
  {
   "cell_type": "markdown",
   "metadata": {},
   "source": [
    "<center> Please contact [Zach Hartwig](mailto:hartwig@psfc.mit.edu) with questions/issues </center>"
   ]
  },
  {
   "cell_type": "code",
   "execution_count": 2,
   "metadata": {
    "collapsed": true,
    "run_control": {
     "read_only": false
    }
   },
   "outputs": [],
   "source": []
  }
 ],
 "metadata": {
  "hide_input": false,
  "kernelspec": {
   "display_name": "IPython (Python 2)",
   "name": "python2"
  },
  "language_info": {
   "codemirror_mode": {
    "name": "ipython",
    "version": 2
   },
   "file_extension": ".py",
   "mimetype": "text/x-python",
   "name": "python",
   "nbconvert_exporter": "python",
   "pygments_lexer": "ipython2",
   "version": "2.7.5"
  },
  "signature": "sha256:0ca26652f7648267a7c3686808979dac9ae120fa3fac8366a14e2bc24cd808b2"
 },
 "nbformat": 4,
 "nbformat_minor": 0
}