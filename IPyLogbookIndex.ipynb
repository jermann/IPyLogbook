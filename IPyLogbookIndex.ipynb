{
 "metadata": {
  "name": "",
  "signature": "sha256:90764b3cccb3ecc694b8a8cd2fd897a02f6bcec22676e0aa47c111c2b61a45b7"
 },
 "nbformat": 3,
 "nbformat_minor": 0,
 "worksheets": [
  {
   "cells": [
    {
     "cell_type": "heading",
     "level": 1,
     "metadata": {},
     "source": [
      "<center>The IPython Logbook Index</center>                                           "
     ]
    },
    {
     "cell_type": "markdown",
     "metadata": {},
     "source": [
      "---"
     ]
    },
    {
     "cell_type": "markdown",
     "metadata": {},
     "source": [
      "| Experiment date | Experiment lead | Experiment summary |\n",
      "|:---------------:|:---------------:|--------------------|\n",
      "| [HEAD](https://ec2-54-172-231-107.compute-1.amazonaws.com:8080/tree/data) | - | Open the top level of the Logbook data hierarchy|\n",
      "| [20141118](https://ec2-54-172-231-107.compute-1.amazonaws.com:8080/notebooks/data/20141118/IPyLogbookEntry-20141118.ipynb) | Zach Hartwig | Measuring fast neutron energy spectra at the NaI-PMT array for different shielding configurations|\n"
     ]
    },
    {
     "cell_type": "markdown",
     "metadata": {},
     "source": [
      "<center> [Manage the logbook](https://ec2-54-172-231-107.compute-1.amazonaws.com:8080/notebooks/data/IPyLogbookManager.ipynb) </center>  \n",
      "\n",
      "<center> [Learn to use the logbook](https://ec2-54-172-231-107.compute-1.amazonaws.com:8080/notebooks/data/doc/IPyLogbookUsersGuide.ipynb)\n",
      "\n"
     ]
    },
    {
     "cell_type": "markdown",
     "metadata": {},
     "source": [
      "---"
     ]
    },
    {
     "cell_type": "markdown",
     "metadata": {},
     "source": [
      "<center> Please contact [Zach Hartwig](mailto:hartwig@psfc.mit.edu) with questions/issues </center>"
     ]
    }
   ],
   "metadata": {}
  }
 ]
}