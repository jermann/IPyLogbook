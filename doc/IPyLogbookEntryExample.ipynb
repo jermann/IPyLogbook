{
 "metadata": {
  "name": "",
  "signature": "sha256:ffa074b1d2c0d1d5a3802fcb927356162003bd91ebac22e321eddb17b201a734"
 },
 "nbformat": 3,
 "nbformat_minor": 0,
 "worksheets": [
  {
   "cells": [
    {
     "cell_type": "heading",
     "level": 1,
     "metadata": {},
     "source": [
      "IPython Logbook Entry - 20141118"
     ]
    },
    {
     "cell_type": "markdown",
     "metadata": {},
     "source": [
      "The IPyLogbook Index may be found [here](https://ec2-54-172-231-107.compute-1.amazonaws.com:8080/notebooks/data/IPyLogbookIndex.ipynb).    \n",
      "The IPyLogbook User's Guide may be found [here](https://ec2-54-172-231-107.compute-1.amazonaws.com:8080/notebooks/data/doc/IPyLogbookUsersGuide.ipynb).  "
     ]
    },
    {
     "cell_type": "heading",
     "level": 2,
     "metadata": {},
     "source": [
      "Experiment Information"
     ]
    },
    {
     "cell_type": "markdown",
     "metadata": {},
     "source": [
      "*Experiment lead* : Zach Hartwig  \n",
      "*Experiment date* : 18 Nov 14  \n",
      "*Experiment desc* : Evaluating fast neutron energy spectra at the NaI-PMT detector array for different shielding configurations"
     ]
    },
    {
     "cell_type": "heading",
     "level": 2,
     "metadata": {},
     "source": [
      "Experiment Summary"
     ]
    },
    {
     "cell_type": "markdown",
     "metadata": {},
     "source": [
      "The main purpose of today's experiments was to measure the fast neutron flux produced by the $^{10}B(d,n)^{11}C$ and $^{11}B(d,n)^{12}C$ reactions, in addition to neutrons from $(\\gamma,n)$ reactions induced by the 15.11 MeV gammas in high-Z material. It is important to understand the fast neutron flux for this experiment for several reasons:  \n",
      "\n",
      "- Gammas induced by fast neutron inelastic scattering (n,n') reactions produce enormous numbers of gammas that cannot easily be collimated out of the NaI-PMT detector view. This leads to extreme count rates and pileup, in addition to undesirable gammas in the spectrum.\n",
      "\n",
      "\n",
      "- Fast and thermal neutrons may be useful in the measurement of fissile material via delayed neutrons so understanding the effect of shielding and ambient geometry on the potentially confounding neutron spectrum from other reactions is important.\n",
      "\n",
      "\n",
      "- Since this experiment intends to be *low-dose* active interrogation, therefore, we need to ensure that fast neutrons are heavily shielded\n",
      "\n",
      "\n",
      "We have performed measurements with the EJ309(2\u201d$\\phi \\times$2\u201d) - PMT (2\u201d) detector, replacing NaI-PMT detector #3 in the detector array. The cylindrical face of the EP detector was flush with the faces of the NaI-PMT detectors and centered horizontally.\n",
      "\n",
      "We took three main measurements with different amounts of shielding / material in the beamline:\n",
      "\n",
      "- 21\u201d Borated-HDPE, 1.74\u201d Pb + 3.00\u201d Fe cargo target to mockup realistic interrogation measurment (See Test_20141118_006.adaq).\n",
      "- 21\u201d Borated-HDPE, 0\" Pb to assess effectivness of B-HDPE shielding on neutron energy spectrum (See Test_20141118_008.adaq).\n",
      "- 0\u201d Borated-HDPE, 3\" Pb to minimize gammas for count rate and see \"unshielded\" neutron energy spectrum (See Test_20141118_009.adaq)"
     ]
    },
    {
     "cell_type": "heading",
     "level": 2,
     "metadata": {},
     "source": [
      "Detectors/High Voltage"
     ]
    },
    {
     "cell_type": "markdown",
     "metadata": {},
     "source": [
      "The EJ309(2\"$\\phi \\times$2\")-PMT(2\") was used exclusively for all data with the following settings:\n",
      "- High voltage : -1000 V\n",
      "- DGTZ type : V1720\n",
      "- DGTZ channel : 0\n",
      "- DGTZ settings: DCOffset = 0x2500, Trigger = 3900 ADC, RecordLength = 300"
     ]
    },
    {
     "cell_type": "heading",
     "level": 2,
     "metadata": {},
     "source": [
      "RFQ Accelerator"
     ]
    },
    {
     "cell_type": "markdown",
     "metadata": {},
     "source": [
      "The RFQ was behaving normally and operated at very consistent parameters:\n",
      "- Duty cycle : 0.30%\n",
      "- Pulse width : 30 $\\mu$s\n",
      "- Rep. rate : 100 Hz"
     ]
    },
    {
     "cell_type": "heading",
     "level": 2,
     "metadata": {},
     "source": [
      "Data File Description"
     ]
    },
    {
     "cell_type": "markdown",
     "metadata": {},
     "source": [
      "All data was acquired - unless explicitly stated - with the DAQ operated on channel auto-trigger, rather than pulsed with the RFQ accelerator.\n",
      "\n",
      "\n",
      "**EPCalibration_1000V_Co60_Cs137.adaq** : Calibration run with check source 60Co (1173, 1332 keV) and 137Cs (662 keV) with the detector at -1000V. Unfortunately, 22Na source was dead so this compromise will have to do for now.\n",
      "\n",
      "**EPCalibration_1000V_PuBe.adaq** : Calibration run with PuBe neutron/gamma source. Will provide broad neutron spectrum but more importantly a 4.44 MeV gamma line for use in ensuring correct linearity for high energy extrapoloation. Attempted to minimize count rate to ensure that pileup events were not an issue.\n",
      "\n",
      "**EPCalibration_1000V_PeakFinder.acal** : Calibration file that includes 137Cs, 60Co, and PuBe edges located on spectra produced with the peak finder algorithms. For the PuBe source, neutrons were removed before the gamma spectrum was produced.\n",
      "\n",
      "**Test_20141118_006.adaq** : 20 minute data run with the EP detector in place of NaI-PMT detector #3 in the vertical detector array. There is 21\u201d Borated-HDPE immediately after the beam target; 1.74\u201d Pb and 3\u201d Fe  form the cargo target. There is 8\u201d of Pb collimation immediately after the cargo target with 8\u201d parallel to the detector Pb shielding/collimation around the detector array, with a large collimation gap open towards the beamline. RFQ average current ~12 uA.\n",
      "\n",
      "**Test_20141118_007.adaq** : 20 minutes data run with the EP detector as above. We have removed all of the Pb and Fe from the \u201ccargo target\u201d so that only the 21\u201d of B-HDPE remains immediately after the beam target. The Pb collimation after the cargo target has been removed, but the Pb shielding/collimation near the detector array remains. RFQ average current ~12 uA.\n",
      "\n",
      "**Test_20141118_008.adaq** : 20 minutes data run with the EP detector as above. All 21\u201d of B-HDPE has been removed from the beamline with 3\u201d of Pb at the cargo target location in order to minimize the gamma counts (to prevent massive pileup) but allow the neutron flux essentially to go right through. Count rates seem reasonable.\n",
      "\n",
      "**Test_20141118_009.adaq** : 20 minutes data run with the EP detector as above. 21\u201d B-HDPE, 7.1\u201d Al, 3.0\u201d Fe were used in the beamline.\n",
      "\n",
      "**ShortOpenAirWaveforms.adaq** : Very short (~30 s) collection of EP detector waveforms for a completely unshielded / unmoderated measurements with no cargo target. The count rates were extraordinary. Acquisition was done with triggered TTL signal from the RFQ."
     ]
    },
    {
     "cell_type": "heading",
     "level": 2,
     "metadata": {},
     "source": [
      "Notes"
     ]
    },
    {
     "cell_type": "markdown",
     "metadata": {},
     "source": [
      "- The neutron dose was measured at various places during the measurements using a HPDE RemBall. Without any B-HDPE in the beamline, the neutron dose at the NaI-PMT detector array was 10.87 mRem / 5 min = 130 mRem / h. With 21\u201d B-HDPE and no cargo target, the neutron dose was 240 $\\mu$Rem / h."
     ]
    },
    {
     "cell_type": "heading",
     "level": 2,
     "metadata": {},
     "source": [
      "Data Analysis and Results"
     ]
    },
    {
     "cell_type": "code",
     "collapsed": false,
     "input": [
      "# Include any ROOT classes needed for analysis here:\n",
      "from ROOT import ROOT\n",
      "\n",
      "# Include RIPN for embedded ROOT graphics:\n",
      "from RIPN import ZNotebookCanvas"
     ],
     "language": "python",
     "metadata": {},
     "outputs": [],
     "prompt_number": 1
    },
    {
     "cell_type": "code",
     "collapsed": false,
     "input": [],
     "language": "python",
     "metadata": {},
     "outputs": [],
     "prompt_number": 1
    }
   ],
   "metadata": {}
  }
 ]
}