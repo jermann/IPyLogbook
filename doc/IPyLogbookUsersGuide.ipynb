{
 "cells": [
  {
   "cell_type": "code",
   "execution_count": 2,
   "metadata": {
    "collapsed": true,
    "run_control": {
     "read_only": false
    }
   },
   "outputs": [],
   "source": [
    "import ConfigParser\n",
    "CP = ConfigParser.ConfigParser()\n",
    "CP.read(\"../.config\")\n",
    "url = CP.get('IPyLogbook-Config','url')\n",
    "port = CP.get('IPyLogbook-Config','ssh-port')\n",
    "\n",
    "index=\"[Logbook Index](\"+url+\":\"+port+\"/notebooks/IPyLogbookIndex.ipynb)\"\n",
    "manager=\"[Logbook Manager](\"+url+\":\"+port+\"/notebooks/mgmt/IPyLogbookManager.ipynb)\""
   ]
  },
  {
   "cell_type": "markdown",
   "metadata": {},
   "source": [
    "# Welcome to the IPython Logbook User's Guide!"
   ]
  },
  {
   "cell_type": "markdown",
   "metadata": {},
   "source": [
    "## Overview"
   ]
  },
  {
   "cell_type": "markdown",
   "metadata": {},
   "source": [
    "##Overview\n",
    "\n",
    "The following sections give the suer a complete overview of the IPyLogbook system\n",
    "\n",
    "#### Directory structure\n",
    "\n",
    "At present, the Logbook assumes that the data to be described has the following directory structure:\n",
    "\n",
    "- **/HEAD/** : The top level directory containing all experimental data and Logbook system\n",
    " - **20140101/** : Subdirectory for each day's data with the name adhering to the YYYYMMDD format\n",
    " - **20140102/** : ...\n",
    " - **20140108/** : ...\n",
    " - ...    \n",
    " - **LogbookIndex.ipynb** : Notebook that gives a high-level snapshot of the Logbook and links to all entries\n",
    " - **.config** : IPyLogbook configuration file that the user should customize for his/her Logbook\n",
    " - **doc/** : Subdirectory containing IPyLogbook documentation\n",
    "   - **IPyLogbookUsersGuide.ipynb** : Notebook containing details of using the IPyLogbook system\n",
    " - **mgmt/** : Subdirectory containing notebooks to assist in Logbook managemant\n",
    "   - **IPyLogbookManager.ipynb** : Notebook containing Bash scripts to manage the Logbook\n",
    "   - **IPyLogbookExtensions.ipynb** : Notebook to control [IPython-notebook-extensions](https://github.com/ipython-contrib/IPython-notebook-extensions)\n",
    "   - **IPyLogbookEntryTemplate.ipynb** : Notebook used as a template for starting new Logbook entries\n",
    "   \n",
    "The *names* of the directories containing data, shown above in YYYYMMDD format, is up to the user, although ordering the directories by date in such a format provides a logical way to keep track of chronologically accumulating data, especially over months and years.  \n",
    "\n",
    "#### The use of IPython-notebook-extensions\n",
    " [IPython-notebook-extensions](https://github.com/ipython-contrib/IPython-notebook-extensions) provide a powerful set of enhancements for IPython notebooks, although they are under active development and often a bit buggy. Several of the extensions are particularly useful for IPyLogbook:\n",
    " \n",
    " - **drag-and-drop.js** : Allows images to be drag-and-dropped from the Desktop into the notebook. *This feature is not yet enabled due to buggy behavior in the distributed javascript file (ZSH 12 Dec 14).\n",
    "\n",
    " - **hide_input_all.js** : Obscures the somewhat ungainly Python code required to import and parse the .config file by hiding the Python input cells and only displaying the output on the whole notebook page.\n",
    " \n",
    " - **python-markdown.js** : Extension enables Python variable values to be used within Markdown cells. While this provides nice analysis writups, python-markdown.js enables the IPyLogbook path, url, and ssh port to be read into the Logbook from the .config file and then used within the Markdown cells, such that portability (moving the IPyLogbook from server-to-server) is reduced to simply editing the information within the .config file.\n",
    " \n",
    " - **read-only.js** : Enables individual Notebook cells to be set to 'read-only' such that they may not be edited.\n",
    " \n",
    "Due to the buggy behavior and active development cycle of the IPython-notebook-extensions, a recent snapshot of their GitHub repository has been debugged and is distributed with IPyLogbook. Users should copy this directory into their own .ipython/nbextensions directory. \n",
    "\n",
    "To find your IPython directory, you can run the following code from within a notebook:\n",
    "```Python\n",
    "import IPython\n",
    "ip=IPython.get_ipython()\n",
    "ip.ipython_dir\n",
    "```\n",
    "\n",
    "Then copy the IPython-notebook-extensions distributed with IPyLogbook to this directory:\n",
    "```bash\n",
    "cp -r IPYLOGBOOK/nbextensions/IPython-notebook-extensions-master IPYDIR\n",
    "```\n",
    "where *IPYLOGBOOK* is the HEAD directory of the IPyLogbook and *IPYDIR* is the user's IPython directory found in the previous step.\n",
    "\n",
    "\n",
    "\n",
    "\n",
    " \n",
    " \n",
    " \n",
    "\n",
    "\n"
   ]
  },
  {
   "cell_type": "markdown",
   "metadata": {},
   "source": [
    "## Instructions"
   ]
  },
  {
   "cell_type": "markdown",
   "metadata": {},
   "source": [
    "#### Using the Logbook Index"
   ]
  },
  {
   "cell_type": "markdown",
   "metadata": {
    "variables": {
     "index": {}
    }
   },
   "source": [
    "The {{index}} contains a high-level snapshot of the present state of the experiment's logbook entries, including the experiment date, lead person's name, and a short one-sentence summary of the experiment carried out. The purpose of the Logbook Index is to give the user an easibly navigable way to jump to different entries within the logbook and an quick overview of all the various experimental activities. The user can click on the experiment date - an internet URL link - in order to navigate to that date's logbook entry, which will open in a new browser tab.\n",
    "\n",
    "Unfortunately, the Logbook Index is *not* automatically generated and requires the user to ensure that it is up-to-date. When the user creates a new Logbook Entry within a new day's directory, he/she should make sure to update the Logbook Index! Updating the Logbook Index is a simple process of editing the cell containing the Markdown-formatted table. One can merely copy any preexisting Logbook Entry line and modify the new line's contents (Date/URL, name, summary sentence) appropriately for the new entry.\n",
    "\n"
   ]
  },
  {
   "cell_type": "markdown",
   "metadata": {},
   "source": [
    "#### Using the Logbook Manager"
   ]
  },
  {
   "cell_type": "markdown",
   "metadata": {
    "variables": {
     "manager": "<a target=\"_blank\" href=\"http://localhost:8888/notebooks/mgmt/IPyLogbookManager.ipynb\">Logbook Manager</a>"
    }
   },
   "source": [
    "The {{manager}} is an IPython notebook that contains a collection of several in-cell Bash scripts that the user can run to list, create, backup, and delete Logbook entries. Each script contains a clear set of explicit instructions and variables that should be set prior to running the script. Because the notebook contains a number of scripts, variable flags should be intentionally set by the user, and the notebook **should never be run with the *Cell $\\rightarrow$ Run All* option**."
   ]
  },
  {
   "cell_type": "markdown",
   "metadata": {},
   "source": [
    "#### Embedding an image into a logbook entry\n",
    "\n",
    "IPython notebooks have internal methods for importing, diplaying, and persistently storing (\"embedding\") HTML-compatible image files (PNG, JPEG, GIF, etc.) into notebooks.\n",
    "\n",
    "To insert a PNG/JPEGimage:  \n",
    "```Python\n",
    "In [0]: from IPython.display import Image\n",
    "In [1]: Image(filename=\"/data/YYYYMMDD/analysis/Image.png\", format=image_type, width=w, height=h)\n",
    "```  \n",
    "where *image_type* can be \"png\", \"jpeg\", \"gif\", etc, and *w* and *h* are the width and height, respectively, of the images in pixels. To scale the image without changing the aspect ratio, simply set the *width* option. Note that the path to the file can be relative to the current directory containing the notebook.\n",
    "\n",
    "\n",
    "To insert an SVG image:  \n",
    "```Python\n",
    "In [0]: from IPython.display import SVG\n",
    "In [1]: SVG(filename=\"/data/YYYYMMDD/analysis/Image.svg\")\n",
    "```"
   ]
  },
  {
   "cell_type": "markdown",
   "metadata": {},
   "source": [
    "#### Embedding a ROOT-based graphic into a logbook entry\n",
    "\n",
    "The RIPN (ROOT IPython Notebook) is a custom IPython module that provides classes to enable ROOT-based graphics generated by PyROOT code within the notebook to be embedded directly into the notebook. The module is part of the [ROOTUtilities](https://github.com/zach-hartwig/ROOTUtilities) toolkit. The method works by instantiating a class of type ZNotebookCanvas, which is derived from ROOT's TCanvas to inherit all of its methods. Several new methods enable the Canvas contents - once the user has drawn all the objects he/she desired to the ZNotebookCanvas object, to then be inserted into the IPython notebook as an embedded figure.\n",
    "\n",
    "To insert ROOT-produced graphics:  \n",
    "```Python\n",
    "In [1]: NB = ZNotebookCanvas()\n",
    "In [X]: # Standard ROOT analysis; use TObject:Draw() as with normal TCanvases #\n",
    "In [5]: NB.Insert()\n",
    "```  \n",
    "\n",
    "Note that the ZNotebookCanvas::Insert() method must be the last line in the cell; the image will be then be embedded within the cell's output.\n"
   ]
  },
  {
   "cell_type": "markdown",
   "metadata": {},
   "source": [
    "## Learning more"
   ]
  },
  {
   "cell_type": "markdown",
   "metadata": {},
   "source": [
    "The following sites contain very helpful information on using the tools that form the core of this Logbook:\n",
    "\n",
    "IPython:\n",
    "- Documentation : http://ipython.org/documentation.html\n",
    "- Notebooks : http://ipython.org/notebook.html\n",
    "\n",
    "Markdown:\n",
    "- Basic syntax and usage : http://daringfireball.net/projects/markdown/syntax\n",
    "- Git-flavored Markdown : https://help.github.com/articles/github-flavored-markdown/\n",
    "\n",
    "ROOT:\n",
    "- User's Guide : http://root.cern.ch/drupal/content/users-guide\n",
    "- Class Index : http://root.cern.ch/root/html534/ClassIndex.html\n",
    "- User's Forum : http://root.cern.ch/phpBB3/\n",
    "\n",
    "RIPN:\n",
    "- ROOTUtilities @ GitHub : https://github.com/zach-hartwig/ROOTUtilities"
   ]
  },
  {
   "cell_type": "markdown",
   "metadata": {},
   "source": [
    "## Contact"
   ]
  },
  {
   "cell_type": "markdown",
   "metadata": {},
   "source": [
    "Zach Hartwig\n",
    "\n",
    "[Dept. of Nuclear Science and\n",
    "Engineering](http://web.mit.edu/nse/http://web.mit.edu/nse/) &  \n",
    "[Plasma Science and Fusion Center](http://www.psfc.mit.edu)  \n",
    "[Massachusetts Institute of Technology](http://mit.edu)  \n",
    "\n",
    "phone: +1 617 253 5471  \n",
    "email: [hartwig@psfc.mit.edu](mailto:hartwig@psfc.mit.edu)  \n",
    "githb: https://github.com/zach-hartwig  \n",
    "smail: 77 Massachusetts Ave, NW17-115, Cambridge MA 02139, USA\n"
   ]
  },
  {
   "cell_type": "code",
   "execution_count": null,
   "metadata": {
    "collapsed": false,
    "run_control": {
     "read_only": false
    }
   },
   "outputs": [],
   "source": []
  }
 ],
 "metadata": {
  "hide_input": true,
  "kernelspec": {
   "display_name": "IPython (Python 2)",
   "name": "python2"
  },
  "language_info": {
   "codemirror_mode": {
    "name": "ipython",
    "version": 2
   },
   "file_extension": ".py",
   "mimetype": "text/x-python",
   "name": "python",
   "nbconvert_exporter": "python",
   "pygments_lexer": "ipython2",
   "version": "2.7.5"
  },
  "signature": "sha256:6ec7c7782eb53185a54d108fb297c02ab22a0413934fe011dc5185a124232460"
 },
 "nbformat": 4,
 "nbformat_minor": 0
}