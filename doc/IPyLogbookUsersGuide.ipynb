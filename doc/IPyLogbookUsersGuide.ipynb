{
 "metadata": {
  "name": "",
  "signature": "sha256:cf2961ff2bf998e7798d8744038370387e8dc614f57233e2a90640177ecd4b98"
 },
 "nbformat": 3,
 "nbformat_minor": 0,
 "worksheets": [
  {
   "cells": [
    {
     "cell_type": "heading",
     "level": 1,
     "metadata": {},
     "source": [
      "Welcome to the IPython Logbook User's Guide!"
     ]
    },
    {
     "cell_type": "heading",
     "level": 2,
     "metadata": {},
     "source": [
      "Overview"
     ]
    },
    {
     "cell_type": "heading",
     "level": 4,
     "metadata": {},
     "source": [
      "Directory structure"
     ]
    },
    {
     "cell_type": "markdown",
     "metadata": {},
     "source": [
      "The Logbook **assumes** that data and files will be stored in the following structures:\n",
      "\n",
      "- **/data/** : The top level directory containing all experimental data and Logbook system\n",
      " - **20140101/** : Subdirectory for each day's data with the name adhering to the YYYYMMDD format\n",
      " - **20140102/** : ...\n",
      "    - **analysis/** : Subsubdirectory containing any files (.root, .jpg, .png, etc) that will used within this day's Logbook entry\n",
      " - **20140108/** : ...\n",
      " - ...\n",
      " - **2014214/** : ...\n",
      " - ... \n",
      " - **doc/** : Subdirectory containing documentation IPyNBs  \n",
      "   - **LogbookEntryTemplate.ipynb** : IPyNB used as a template for starting new Logbook entries\n",
      "   - **LogbookEntryOverview.ipynb** : IPyNB instruction manual for the Logbook\n",
      " - **LogbookIndex.ipynb** : IPyNB that gives a high-level snapshot of the Logbook\n",
      " - **LogbookManager.ipynb** : IPyNB containing Bash scripts to manage the Logbook"
     ]
    },
    {
     "cell_type": "heading",
     "level": 2,
     "metadata": {},
     "source": [
      "Instructions"
     ]
    },
    {
     "cell_type": "heading",
     "level": 4,
     "metadata": {},
     "source": [
      "Using the Logbook Index"
     ]
    },
    {
     "cell_type": "markdown",
     "metadata": {},
     "source": [
      "The [Logbook Index](https://ec2-54-172-231-107.compute-1.amazonaws.com:8080/notebooks/data/IPyLogbookIndex.ipynb) contains a high-level snapshot of the present state of the experiment's logbook entries, including the experiment date, lead person, and short one-sentence summary of the experiment carried out. The purpose of the Logbook Index is to give the user an easibly navigable way to jump to different entries within the logbook and an quick overview of all the various experimental activities. The user can click on the experiment date - an internet URL link - in order to navigate to that date's logbook entry, which will open in a new browser tab.\n",
      "\n",
      "Unfortunately, the Logbook Index is *not* automatically generated and requires the user to ensure that it is up-to-date. When the user creates a new Logbook Entry within a new day's directory, he/she should make sure to update the Logbook Index! Updating the Logbook Index is a simple process of editing the cell containing the Markdown-formatted table. One can merely copy any preexisting Logbook Entry line and modify the new line's contents (Date/URL, name, summary sentence) appropriately for the new entry.\n",
      "\n"
     ]
    },
    {
     "cell_type": "heading",
     "level": 4,
     "metadata": {},
     "source": [
      "Using the Logbook Manager"
     ]
    },
    {
     "cell_type": "markdown",
     "metadata": {},
     "source": [
      "The [Logbook Manager](https://ec2-54-172-231-107.compute-1.amazonaws.com:8080/notebooks/data/IPyLogbookManager.ipynb) is an IPython notebook that contains a collection of several in-cell Bash scripts that the user can run to list, create, backup, and delete Logbook entries. Each script contains a clear set of explicit instructions and variables that should be set prior to running the script. Because the notebook contains a number of scripts, variable flags should be intentionally set by the user, and the notebook *should never be run with the \"Cell -> Run all\" option*."
     ]
    },
    {
     "cell_type": "heading",
     "level": 4,
     "metadata": {},
     "source": [
      "Embedding an image into a logbook entry"
     ]
    },
    {
     "cell_type": "markdown",
     "metadata": {},
     "source": [
      "\n",
      "To insert a JPG/PNG image:  \n",
      "```Python\n",
      "In [1]: Image(\"/data/YYYYMMDD/analysis/Image.png\", format=\"png\")\n",
      "```  \n",
      "\n",
      "To insert an SVG image:  \n",
      "```Python\n",
      "In [1]: SVG(\"/data/YYYYMMDD/analysis/Image.svg\")\n",
      "```\n"
     ]
    },
    {
     "cell_type": "heading",
     "level": 4,
     "metadata": {},
     "source": [
      "Embedding a ROOT-based graphic into a logbook entry"
     ]
    },
    {
     "cell_type": "markdown",
     "metadata": {},
     "source": [
      "The RIPN (ROOT IPython Notebook) module is a custom \"plug-in\" that enables ROOT-based graphics to be embedded within an IPython Notebook. The method works by instantiating a class of type ZNotebookCanvas, which is derived from ROOT's TCanvas to inherit all of its methods. Several new methods enable the Canvas contents - once the user has drawn all the objects he/she desired to the ZNotebookCanvas object, to then be inserted into the IPython notebook as an embedded figure.\n",
      "\n",
      "\n",
      "To insert ROOT-produced graphics:  \n",
      "```Python\n",
      "In [1]: NB = ZNotebookCanvas()\n",
      "In [X]: # Standard ROOT analysis; use TObject:Draw() as with normal TCanvases #\n",
      "In [5]: NB.Insert()\n",
      "```"
     ]
    },
    {
     "cell_type": "heading",
     "level": 2,
     "metadata": {},
     "source": [
      "Learning more"
     ]
    },
    {
     "cell_type": "markdown",
     "metadata": {},
     "source": [
      "The following sites contain very helpful information on using the tools that form the core of this Logbook:\n",
      "\n",
      "IPython:\n",
      "- Documentation : http://ipython.org/documentation.html\n",
      "- Notebooks : http://ipython.org/notebook.html\n",
      "\n",
      "Markdown:\n",
      "- Basic syntax and usage : http://daringfireball.net/projects/markdown/syntax\n",
      "- Git-flavored Markdown : https://help.github.com/articles/github-flavored-markdown/\n",
      "\n",
      "ROOT:\n",
      "- User's Guide : http://root.cern.ch/drupal/content/users-guide\n",
      "- Class Index : http://root.cern.ch/root/html534/ClassIndex.html\n",
      "- User's Forum : http://root.cern.ch/phpBB3/\n",
      "\n",
      "RIPN:\n",
      "- ROOTUtilities @ GitHub : https://github.com/zach-hartwig/ROOTUtilities"
     ]
    },
    {
     "cell_type": "heading",
     "level": 2,
     "metadata": {},
     "source": [
      "Contact"
     ]
    },
    {
     "cell_type": "markdown",
     "metadata": {},
     "source": [
      "Zach Hartwig\n",
      "\n",
      "[Dept. of Nuclear Science and\n",
      "Engineering](http://web.mit.edu/nse/http://web.mit.edu/nse/) &  \n",
      "[Plasma Science and Fusion Center](http://www.psfc.mit.edu)  \n",
      "[Massachusetts Institute of Technology](http://mit.edu)  \n",
      "\n",
      "phone: +1 617 253 5471  \n",
      "email: [hartwig@psfc.mit.edu](mailto:hartwig@psfc.mit.edu)  \n",
      "githb: https://github.com/zach-hartwig  \n",
      "smail: 77 Massachusetts Ave, NW17-115, Cambridge MA 02139, USA\n"
     ]
    },
    {
     "cell_type": "code",
     "collapsed": false,
     "input": [],
     "language": "python",
     "metadata": {},
     "outputs": []
    }
   ],
   "metadata": {}
  }
 ]
}