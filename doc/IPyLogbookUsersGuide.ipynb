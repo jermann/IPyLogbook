{
 "cells": [
  {
   "cell_type": "code",
   "execution_count": 4,
   "metadata": {
    "collapsed": false,
    "run_control": {
     "read_only": false
    }
   },
   "outputs": [],
   "source": [
    "import ConfigParser\n",
    "CP = ConfigParser.ConfigParser()\n",
    "CP.read(\"../.config\")\n",
    "url = CP.get('IPyLogbook-Config','url')\n",
    "port = CP.get('IPyLogbook-Config','ssh-port')\n",
    "\n",
    "headLink=\"[Logbook HEAD](\"+url+\":\"+port+\"/tree)\"\n",
    "extensionsLink=\"[Logbook Extensions](\"+url+\":\"+port+\"/notebooks/IPyLogbook/mgmt/IPyLogbookExtensions.ipynb)\"\n",
    "indexLink=\"[Logbook Index](\"+url+\":\"+port+\"/notebooks/IPyLogbook/IPyLogbookIndex.ipynb)\"\n",
    "usersguideLink=\"[Logbook User Guide](\"+url+\":\"+port+\"/notebooks/IPyLogbook/doc/IPyLogbookUsersGuide.ipynb)\""
   ]
  },
  {
   "cell_type": "markdown",
   "metadata": {},
   "source": [
    "# Welcome to the IPyLogbook User's Guide!"
   ]
  },
  {
   "cell_type": "markdown",
   "metadata": {
    "variables": {
     "index": "<a target=\"_blank\" href=\"http://localhost:8888/notebooks/IPyLogbook/IPyLogbookIndex.ipynb\">Logbook Index</a>",
     "managerLink": "<a target=\"_blank\" href=\"http://localhost:8888/notebooks/IPyLogbook/mgmt/IPyLogbookManager.ipynb\">Logbook Manager</a>"
    }
   },
   "source": [
    "##Overview\n",
    "\n",
    "IPyLogbook uses [IPython notebooks](http://ipython.org/notebook.html) to provide a server-based data documentation and analysis framework for scientific applications that can be accessed and edited from anywhere in the world via a web browser. Whether used as a digital replacement for the traditional day-to-day lab notebook or deployed to support data needs for a complex experiment, IPyLogbook provides a flexible, accessible, powerful way to document and analyze data. The system intinsically provides all the scientific computing features of IPython but can also utilize external codes that are designed to work within IPython notebooks. For example, as this system was originally developed to support nuclear physics experiments, the ability to utilize the [ROOT](http://root.cern.ch/drupal) toolkit was easily accomplished. In additional, a number of the [IPython-notebook-extensions](https://github.com/ipython-contrib/IPython-notebook-extensions) are utilized to enhance the usability of standard IPython notebooks for this project.\n",
    "\n",
    "The following sections give the user a complete overview of the IPyLogbook system\n",
    "\n",
    "#### Requirements\n",
    "\n",
    "- **Web browser**: IPyLogbook has tested successfully on Firefox (version 34.0) and Chrome (version  39.0.2171.95).\n",
    "- **IPython**: IPyLogbook is being developed on top of IPython-3.0.0-dev\n",
    "- **IPython-notebook-extensions**: IPyLogbook utilizes several of these extensions to provide core functionality. Note that due to several bugs (principally in python-markdown.js), a customized version of these extensions are distributed with IPyLogbook and are recommended for use over those available on GitHub.\n",
    "\n",
    "#### Directory structure\n",
    "\n",
    "IPyLogbook is capable of providing documentation and analysis of data stored within any directory structure with any naming convention, which is facilated by the user's ability to specify Logbook directory and entry names  via the {{managerLink}}. The inter-Logbook hyperlinks are dynamically set based on the values specified in the IPyLogbook .config file. While the location of the top-level IPyLogbook directory is arbitary, it is recommended that user install IPyLogbook within the first sublevel of the data hierarchy for consistency. For example, if the data is contained at */data/projectAlpha* then the IPyLogbook would be located at */data/projectAlpha/IPyLogbook*.\n",
    "\n",
    "The following data hierarchy provides an example of how IPyLogbook could be deployed to describe chronological experimental data and application specific simulation data\"\n",
    "\n",
    "- **/absolute/path/to/data** : The top level directory containing all data and the IPyLogbook system\n",
    "  - **experiment/** : first sublevel directory containing experimental data organized by date\n",
    "    - **20140101/** : second sublevel directory containing actual data files; directory named with YYYYMMDD format\n",
    "    - **20140113/** : ...\n",
    "    - **20140208/** : ...\n",
    "    \n",
    "  - **simulation/** : first sublevel directory containing simulation data\n",
    "    - **someResult/** : second sublevel directory containing actual data files, images, photographs, etc.\n",
    "    - **otherResult/** : ..\n",
    "    \n",
    "  - **IPyLogbook/** : first sublevel directory containing the IPyLogbook files\n",
    "    - **LogbookIndex.ipynb** : Notebook that gives a high-level snapshot of the Logbook and links to all entries\n",
    "    - **.config** : IPyLogbook configuration file that the user should customize for his/her Logbook\n",
    "    - **doc/** : Subdirectory containing IPyLogbook documentation\n",
    "      - **IPyLogbookUsersGuide.ipynb** : Notebook containing details of using the IPyLogbook system\n",
    "    - **mgmt/** : Subdirectory containing notebooks to assist in Logbook managemant\n",
    "      - **IPyLogbookManager.ipynb** : Notebook containing Bash scripts to manage the Logbook\n",
    "      - **IPyLogbookExtensions.ipynb** : Notebook to control [IPython-notebook-extensions](https://github.com/ipython-contrib/IPython-notebook-extensions)\n",
    "      - **IPyLogbookEntryTemplate.ipynb** : Notebook used as a template for starting new Logbook entries\n",
    "      \n",
    "The YYYYMMDD naming convention for experimental data provides a convenient way to chronologically order the data while a more descriptive naming convention for simulation data is more insightful. Regardless of the chosen naming convention, the {{index}} should be kept up to date to provide a clear one-sentence summary of the data being described and a link directly to that data's Logbook entry.\n",
    "   \n",
    "\n",
    "#### The use of IPython-notebook-extensions\n",
    " [IPython-notebook-extensions](https://github.com/ipython-contrib/IPython-notebook-extensions) provide a powerful set of enhancements for IPython notebooks, although they are under active development and often a bit buggy. Several of the extensions are particularly useful for IPyLogbook:\n",
    " \n",
    " - **drag-and-drop.js** : Allows images to be drag-and-dropped from the Desktop into the notebook. *This feature is not yet enabled due to buggy behavior in the distributed javascript file (ZSH 12 Dec 14).\n",
    "\n",
    " - **hide_input_all.js** : Obscures the somewhat ungainly Python code required to import and parse the .config file by hiding the Python input cells and only displaying the output on the whole notebook page.\n",
    " \n",
    " - **python-markdown.js** : Extension enables Python variable values to be used within Markdown cells. While this provides nice analysis writups, python-markdown.js enables the IPyLogbook path, url, and ssh port to be read into the Logbook from the .config file and then used within the Markdown cells, such that portability (moving the IPyLogbook from server-to-server) is reduced to simply editing the information within the .config file.\n",
    " \n",
    " - **read-only.js** : Enables individual Notebook cells to be set to 'read-only' such that they may not be edited.\n",
    " \n",
    "Due to the buggy behavior and active development cycle of the IPython-notebook-extensions, a recent snapshot of their GitHub repository has been debugged and is distributed with IPyLogbook. Users should copy this directory into their own .ipython/nbextensions directory. \n",
    "\n",
    "To find your IPython directory, you can run the following code from within a notebook:\n",
    "```Python\n",
    "import IPython\n",
    "ip=IPython.get_ipython()\n",
    "ip.ipython_dir\n",
    "```\n",
    "\n",
    "Then copy the IPython-notebook-extensions distributed with IPyLogbook to this directory:\n",
    "```bash\n",
    "cp -r IPYLOGBOOK/nbextensions/IPython-notebook-extensions-master IPYDIR\n",
    "```\n",
    "where *IPYLOGBOOK* is the HEAD directory of the IPyLogbook and *IPYDIR* is the user's IPython directory found in the previous step.\n",
    "\n"
   ]
  },
  {
   "cell_type": "markdown",
   "metadata": {
    "variables": {
     "extensions": "<a target=\"_blank\" href=\"http://localhost:8888/notebooks/IPyLogbook/mgmt/IPyLogbookExtensions.ipynb\">Logbook Extensions</a>",
     "index": "<a target=\"_blank\" href=\"http://localhost:8888/notebooks/IPyLogbook/IPyLogbookIndex.ipynb\">Logbook Index</a>",
     "manager": "<a target=\"_blank\" href=\"http://localhost:8888/notebooks/IPyLogbook/mgmt/IPyLogbookManager.ipynb\">Logbook Manager</a>"
    }
   },
   "source": [
    "## Instructions\n",
    "\n",
    "#### Using the IPyLogbook Index\n",
    "\n",
    "The {{index}} contains a high-level snapshot of the present state of the experiment's logbook entries, including the experiment date, lead person's name, and a short one-sentence summary of the experiment carried out. The purpose of the Logbook Index is to give the user an easibly navigable way to jump to different entries within the logbook and an quick overview of all the various experimental activities. The user can click on the experiment date - an internet URL link - in order to navigate to that date's logbook entry, which will open in a new browser tab.\n",
    "\n",
    "Unfortunately, the Logbook Index is *not* automatically generated and requires the user to ensure that it is up-to-date. When the user creates a new Logbook Entry within a new day's directory, he/she should make sure to update the Logbook Index! Updating the Logbook Index is a simple process of editing the cell containing the Markdown-formatted table. One can merely copy any preexisting Logbook Entry line and modify the new line's contents (Date/URL, name, summary sentence) appropriately for the new entry.\n",
    "\n",
    "\n",
    "#### Using the IPyLogbook Manager\n",
    "\n",
    "The {{manager}} is an IPython notebook that contains a collection of several in-cell Bash scripts that the user can run to list, create, backup, and delete Logbook entries. Each script contains a clear set of explicit instructions and variables that should be set prior to running the script. Because the notebook contains a number of scripts, variable flags should be intentionally set by the user, and the notebook **should never be run with the *Cell $\\rightarrow$ Run All* option**.\n",
    "\n",
    "\n",
    "#### Configuring the IPyLogbook Extensions\n",
    "\n",
    "The {{extensions}} notebook enables the user to easily enable/disable IPython-notebook-extensions. The notebook must be run the first time that IPyLogbook is installed to ensure that the extensions will be automotically loaded the next time that the notebook server is started; the server should be restarted. After the initial executation, the user may enable/disable extensions, execute the notebook, and the restart to the server for the changes to take effect. Be warned that disabling extensions may break the functionality of the IPyLogbook!\n",
    "\n",
    " \n",
    " #### Embedding an image into a logbook entry\n",
    "\n",
    "IPython notebooks have internal methods for importing, diplaying, and persistently storing (\"embedding\") HTML-compatible image files (PNG, JPEG, GIF, etc.) into notebooks.\n",
    "\n",
    "To insert a PNG/JPEGimage:  \n",
    "```Python\n",
    "In [0]: from IPython.display import Image\n",
    "In [1]: Image(filename=\"/data/YYYYMMDD/analysis/Image.png\", format=image_type, width=w, height=h)\n",
    "```  \n",
    "where *image_type* can be \"png\", \"jpeg\", \"gif\", etc, and *w* and *h* are the width and height, respectively, of the images in pixels. To scale the image without changing the aspect ratio, simply set the *width* option. Note that the path to the file can be relative to the current directory containing the notebook.\n",
    "\n",
    "\n",
    "To insert an SVG image:  \n",
    "```Python\n",
    "In [0]: from IPython.display import SVG\n",
    "In [1]: SVG(filename=\"/data/YYYYMMDD/analysis/Image.svg\")\n",
    "```\n",
    "\n",
    "#### Embedding a ROOT-based graphic into a logbook entry\n",
    "\n",
    "The RIPN (ROOT IPython Notebook) is a custom IPython module that provides classes to enable ROOT-based graphics generated by PyROOT code within the notebook to be embedded directly into the notebook. The module is part of the [ROOTUtilities](https://github.com/zach-hartwig/ROOTUtilities) toolkit. The method works by instantiating a class of type ZNotebookCanvas, which is derived from ROOT's TCanvas to inherit all of its methods. Several new methods enable the Canvas contents - once the user has drawn all the objects he/she desired to the ZNotebookCanvas object, to then be inserted into the IPython notebook as an embedded figure.\n",
    "\n",
    "To insert ROOT-produced graphics:  \n",
    "```Python\n",
    "In [1]: NB = ZNotebookCanvas()\n",
    "In [X]: # Standard ROOT analysis; use TObject:Draw() as with normal TCanvases #\n",
    "In [5]: NB.Insert()\n",
    "```  \n",
    "\n",
    "The call to the ZNotebookCanvas::Insert() method must be the last line in the cell; the image will be then be embedded within the cell's output. Note that obviously [ROOT](http://root.cern.ch/drupal/) must be installed and properly configured on the system for this feature to work correctly!\n"
   ]
  },
  {
   "cell_type": "markdown",
   "metadata": {},
   "source": [
    "## Troubleshooting\n",
    "\n",
    "#### Internal Logbook hyperlinks are not working\n",
    "\n",
    "Dynamically setting of the hyperlink values for Logbook navigation are done by reading the necessary parameters from the IPyLogbook .config file into Python variables and then using the IPython-notebook-extensions *python-markdown.js* to convert them into Markdown-interpreted hyperlinks.\n",
    "\n",
    "1. Ensure that the URL and SSH port number are correctly set within your .config file.\n",
    "2. Ensure that the customized version of *python-markdown.js* that is distributed with IPyLogbook has been installed. (The standard version is fairly buggy and needed the corrections provided here.)\n",
    "\n",
    "#### Internal Logbook hyperlinks appear as \"$\\{\\{\\mathrm{variable-name}\\}\\}$\"\n",
    "\n",
    "The *python-markdown.js* code that is used to dynamically set Logbook URLs is a bit buggy and sometimes - I'm not yet sure under what conditions - it refuses to convert the python text passed to Markdown via the {{}} into the correctly generated URL links. The most likely candidate is that the cells are not being executed \"freshly\" for some reason, choosing instead to load old data or metadata without applying new values from scratch. The following steps should be followed to debug:\n",
    "\n",
    "1. Ensure you have correctly applied steps \\#1 and \\#2 from the previous section.\n",
    "2. Save the Notebook via *Ctrl-s* keystroke and then reload the page via *Ctrl-r* keystroke.\n",
    "3. Shutdown the notebook via the IPython notebook console and then reopen it. Execute a *Ctrl-s* then *Ctrl-r*.\n",
    "4. Try to open the Markdown cell, put the cursor within the {{}}, and then execute the cell via a *Shift $\\rightarrow$ Enter* keystroke. This is particularly true when the Markdown cell displays a value of \"[Object object]\""
   ]
  },
  {
   "cell_type": "markdown",
   "metadata": {},
   "source": [
    "## Learning more"
   ]
  },
  {
   "cell_type": "markdown",
   "metadata": {},
   "source": [
    "The following sites contain very helpful information on using the tools that form the core of this Logbook:\n",
    "\n",
    "IPython:\n",
    "- Documentation : http://ipython.org/documentation.html\n",
    "- Notebooks : http://ipython.org/notebook.html\n",
    "\n",
    "Markdown:\n",
    "- Basic syntax and usage : http://daringfireball.net/projects/markdown/syntax\n",
    "- Git-flavored Markdown : https://help.github.com/articles/github-flavored-markdown/\n",
    "\n",
    "ROOT:\n",
    "- User's Guide : http://root.cern.ch/drupal/content/users-guide\n",
    "- Class Index : http://root.cern.ch/root/html534/ClassIndex.html\n",
    "- User's Forum : http://root.cern.ch/phpBB3/\n",
    "\n",
    "RIPN:\n",
    "- ROOTUtilities @ GitHub : https://github.com/zach-hartwig/ROOTUtilities"
   ]
  },
  {
   "cell_type": "markdown",
   "metadata": {},
   "source": [
    "## Contact\n",
    "\n",
    "Zach Hartwig\n",
    "\n",
    "[Dept. of Nuclear Science and\n",
    "Engineering](http://web.mit.edu/nse/http://web.mit.edu/nse/) &  \n",
    "[Plasma Science and Fusion Center](http://www.psfc.mit.edu)  \n",
    "[Massachusetts Institute of Technology](http://mit.edu)  \n",
    "\n",
    "phone: +1 617 253 5471  \n",
    "email: [hartwig@psfc.mit.edu](mailto:hartwig@psfc.mit.edu)  \n",
    "githb: https://github.com/zach-hartwig  \n",
    "smail: 77 Massachusetts Ave, NW17-115, Cambridge MA 02139, USA\n"
   ]
  },
  {
   "cell_type": "markdown",
   "metadata": {
    "variables": {
     "extensionsLink": "<a target=\"_blank\" href=\"http://localhost:8888/notebooks/IPyLogbook/mgmt/IPyLogbookExtensions.ipynb\">Logbook Extensions</a>",
     "headLink": "<a target=\"_blank\" href=\"http://localhost:8888/tree\">Logbook HEAD</a>",
     "indexLink": "<a target=\"_blank\" href=\"http://localhost:8888/notebooks/IPyLogbook/IPyLogbookIndex.ipynb\">Logbook Index</a>",
     "usersguideLink": "<a target=\"_blank\" href=\"http://localhost:8888/notebooks/IPyLogbook/doc/IPyLogbookUsersGuide.ipynb\">Logbook User Guide</a>"
    }
   },
   "source": [
    "---  \n",
    "## <center> Logbook Navigation</center>\n",
    "<center>{{headLink}} --- {{extensionsLink}} --- {{indexLink}} --- {{usersguideLink}}</center>"
   ]
  },
  {
   "cell_type": "code",
   "execution_count": null,
   "metadata": {
    "collapsed": true,
    "run_control": {
     "read_only": false
    }
   },
   "outputs": [],
   "source": []
  }
 ],
 "metadata": {
  "hide_input": true,
  "kernelspec": {
   "display_name": "IPython (Python 2)",
   "name": "python2"
  },
  "language_info": {
   "codemirror_mode": {
    "name": "ipython",
    "version": 2
   },
   "file_extension": ".py",
   "mimetype": "text/x-python",
   "name": "python",
   "nbconvert_exporter": "python",
   "pygments_lexer": "ipython2",
   "version": "2.7.5"
  },
  "signature": "sha256:8ad8055c10782a063b7ba3c8bc63e7b601117c02086e76376990a575220ad6a8"
 },
 "nbformat": 4,
 "nbformat_minor": 0
}