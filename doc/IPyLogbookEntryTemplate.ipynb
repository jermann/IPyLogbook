{
 "metadata": {
  "name": "",
  "signature": "sha256:ed23fcfed29196756b25b9640a52d1d375ded6f587e26459e26df40189124c6b"
 },
 "nbformat": 3,
 "nbformat_minor": 0,
 "worksheets": [
  {
   "cells": [
    {
     "cell_type": "heading",
     "level": 1,
     "metadata": {},
     "source": [
      "IPython Logbook Entry - Template"
     ]
    },
    {
     "cell_type": "markdown",
     "metadata": {},
     "source": [
      "The IPyLogbook index may be found [here](https://ec2-54-172-231-107.compute-1.amazonaws.com:8080/notebooks/data/IPyLogbookIndex.ipynb)  \n",
      "The IPyLogbook User's Guide may be found [here](https://ec2-54-172-231-107.compute-1.amazonaws.com:8080/notebooks/data/doc/IPyLogbookUsersGuide.ipynb)"
     ]
    },
    {
     "cell_type": "heading",
     "level": 2,
     "metadata": {},
     "source": [
      "Experiment Information"
     ]
    },
    {
     "cell_type": "markdown",
     "metadata": {},
     "source": [
      "*Experiment lead* :  \n",
      "*Experiment date* :  \n",
      "*Experiment desc* :   "
     ]
    },
    {
     "cell_type": "heading",
     "level": 2,
     "metadata": {},
     "source": [
      "Experiment Summary"
     ]
    },
    {
     "cell_type": "markdown",
     "metadata": {},
     "source": []
    },
    {
     "cell_type": "heading",
     "level": 2,
     "metadata": {},
     "source": [
      "Detectors/High Voltage"
     ]
    },
    {
     "cell_type": "markdown",
     "metadata": {},
     "source": []
    },
    {
     "cell_type": "heading",
     "level": 2,
     "metadata": {},
     "source": [
      "RFQ Accelerator"
     ]
    },
    {
     "cell_type": "markdown",
     "metadata": {},
     "source": []
    },
    {
     "cell_type": "heading",
     "level": 2,
     "metadata": {},
     "source": [
      "Data File Description"
     ]
    },
    {
     "cell_type": "markdown",
     "metadata": {},
     "source": []
    },
    {
     "cell_type": "heading",
     "level": 2,
     "metadata": {},
     "source": [
      "Notes"
     ]
    },
    {
     "cell_type": "markdown",
     "metadata": {},
     "source": []
    },
    {
     "cell_type": "heading",
     "level": 2,
     "metadata": {},
     "source": [
      "Data Analysis and Results"
     ]
    },
    {
     "cell_type": "code",
     "collapsed": false,
     "input": [
      "# Include any ROOT classes needed for analysis here:\n",
      "from ROOT import ROOT\n",
      "\n",
      "# Include RIPN for embedded ROOT graphics:\n",
      "from RIPN import ZNotebookCanvas"
     ],
     "language": "python",
     "metadata": {},
     "outputs": [],
     "prompt_number": 1
    },
    {
     "cell_type": "code",
     "collapsed": false,
     "input": [],
     "language": "python",
     "metadata": {},
     "outputs": [],
     "prompt_number": 1
    }
   ],
   "metadata": {}
  }
 ]
}