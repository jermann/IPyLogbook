{
 "metadata": {
  "name": "",
  "signature": "sha256:658525b08efd942e34d6d522574056587c418ee0d2010c680c41c9e71bafd18d"
 },
 "nbformat": 3,
 "nbformat_minor": 0,
 "worksheets": [
  {
   "cells": [
    {
     "cell_type": "heading",
     "level": 1,
     "metadata": {},
     "source": [
      "IPython Logbook Manager"
     ]
    },
    {
     "cell_type": "markdown",
     "metadata": {},
     "source": [
      "This IPython notebook can be used to manage the Logbook via a collection of bash scripts that handle the listing, creating, and backing up of the logbook entries. Each subsection title corresponds to the function performed by the bash script contained within. The subsection is divided into two parts: the first contains variables that must set by the user for the bash script; the second contains the script itself. The user should execute an action only by *individual cell executations* of only those cells that pertain to the action he/she wishes to enact. While protection flags have been implemented to prevent scripts from running without the user's intentional invervention, the user *should not execute a \"Cell -> Run All\" command* to prevent accidental actions.\n",
      "\n"
     ]
    },
    {
     "cell_type": "markdown",
     "metadata": {},
     "source": [
      "---"
     ]
    },
    {
     "cell_type": "heading",
     "level": 2,
     "metadata": {},
     "source": [
      "Create Logbook Entry"
     ]
    },
    {
     "cell_type": "markdown",
     "metadata": {},
     "source": [
      "When creating a new logbook entry, don't forget to update the [Logbook Index](https://ec2-54-172-231-107.compute-1.amazonaws.com:8080/notebooks/data/LogbookIndex.ipynb) accordingly!  \n",
      "To create a logbook entry, please set the following variables appropriately:"
     ]
    },
    {
     "cell_type": "code",
     "collapsed": false,
     "input": [
      "CreateScript_Date=\"20141118\" # \"YYYYDDMM\" : YYYY=year, MM=month, DD=day\n",
      "CreateScript_Execute=\"Yes\"   # \"Yes\" = run script; \"No\" = do not run script\n",
      "CreateScript_Overwrite=\"No\"  # \"Yes\" = overwrite preexising log entry; \"No\" = do NOT overwrite preexisting log entry"
     ],
     "language": "python",
     "metadata": {},
     "outputs": [],
     "prompt_number": 2
    },
    {
     "cell_type": "code",
     "collapsed": false,
     "input": [
      "#---------- User should not change anything below this point ----------#"
     ],
     "language": "python",
     "metadata": {},
     "outputs": [],
     "prompt_number": 3
    },
    {
     "cell_type": "code",
     "collapsed": false,
     "input": [
      "%%bash -s \"$CreateScript_Date\" \"$CreateScript_Execute\" \"$CreateScript_Overwrite\"\n",
      "\n",
      "if [ \"$#\" -ne 3 ]; then\n",
      "    echo -e \"\\nError: This script requires two arguments from the ExperimentLogbookManager:\"\n",
      "    echo -e   \"Usage: $./CreateLogbookEntry.sh <date> <execute> <overwrite>\"\n",
      "    echo -e   \"       where <data> = experiment data in YYYYMMDD format\"\n",
      "    echo -e   \"             <execute> = yes/no to run the script\"\n",
      "    echo -e   \"             <overwrite> = yes/no to overwrite existing logfile\"\n",
      "    echo -e \"\"\n",
      "    exit\n",
      "fi\n",
      "\n",
      "if [ \"$2\" == \"No\" ]; then\n",
      "    echo -e \"\\nThis script is not flagged for execution. Set 'CreateScript_Execute' flag to 'Yes' to execute\"\n",
      "    exit\n",
      "fi\n",
      "\n",
      "EntryDir=$1\"/\"\n",
      "EntryName=\"IPyLogbookEntry-\"$1\".ipynb\"\n",
      "Entry=$EntryDir$EntryName\n",
      "\n",
      "if [ -f $Entry ]; then\n",
      "    if [ \"$3\" == \"No\" ]; then\n",
      "        echo -e \"\\nA logbook entry for $1 already exists! Set 'CreateScript_Overwrite' to 'Yes' to overwrite.\"\n",
      "        echo -e   \"Please exercise CAUTION when using this option!\\n\"\n",
      "        exit\n",
      "    fi       \n",
      "fi\n",
      "\n",
      "EntryTemplate=\"/data/doc/IPyLogbookEntryTemplate.ipynb\"\n",
      "cp $EntryTemplate $Entry\n",
      "echo -e \"\\nA logbook entry entitled '$Entry' was successfully created!\\n\""
     ],
     "language": "python",
     "metadata": {},
     "outputs": [
      {
       "output_type": "stream",
       "stream": "stdout",
       "text": [
        "\n",
        "A logbook entry entitled '20141118/IPyLogbookEntry-20141118.ipynb' was successfully created!\n",
        "\n"
       ]
      }
     ],
     "prompt_number": 5
    },
    {
     "cell_type": "heading",
     "level": 2,
     "metadata": {},
     "source": [
      "List Logbook Entries"
     ]
    },
    {
     "cell_type": "markdown",
     "metadata": {},
     "source": [
      "To list the available logbook entries, please set the following variables appropriately:"
     ]
    },
    {
     "cell_type": "code",
     "collapsed": false,
     "input": [
      "ListScript_Execute=\"No\" # \"Yes\" = run script; \"No\" = do not run script"
     ],
     "language": "python",
     "metadata": {},
     "outputs": [],
     "prompt_number": 113
    },
    {
     "cell_type": "code",
     "collapsed": false,
     "input": [
      "#---------- User should not change anything below this point ----------#"
     ],
     "language": "python",
     "metadata": {},
     "outputs": [],
     "prompt_number": 114
    },
    {
     "cell_type": "code",
     "collapsed": false,
     "input": [
      "%%bash -s \"$ListScript_Execute\"\n",
      "\n",
      "if [ \"$#\" -ne 1 ]; then\n",
      "    echo -e \"\\nError: The 'List Logbook Entries' script requires two arguments:\"\n",
      "    echo -e   \"Usage: $./ListLogbookEntries.sh <execute>\"\n",
      "    echo -e   \"       where <execute> = yes/no to run the script\"\n",
      "    echo -e \"\"\n",
      "    exit\n",
      "fi\n",
      "\n",
      "if [ \"$1\" == \"No\" ]; then\n",
      "    echo -e \"\\nThis script is not flagged for execution. Set 'ListScript_Execute' flag to 'Yes' to execute\".\n",
      "    exit\n",
      "fi\n",
      "\n",
      "find /data/ -name \"LogbookEntry-*.ipynb\""
     ],
     "language": "python",
     "metadata": {},
     "outputs": [
      {
       "output_type": "stream",
       "stream": "stdout",
       "text": [
        "/data/20141118/.ipynb_checkpoints/LogbookEntry-20141118-checkpoint.ipynb\n"
       ]
      }
     ],
     "prompt_number": 1
    },
    {
     "cell_type": "heading",
     "level": 2,
     "metadata": {},
     "source": [
      "Backup Logbook"
     ]
    },
    {
     "cell_type": "markdown",
     "metadata": {},
     "source": [
      "To backup the logbook to the directory of your choice, please set the following variables appropriately:"
     ]
    },
    {
     "cell_type": "code",
     "collapsed": false,
     "input": [
      "BackupScript_Directory=\"/home/hartwig/logbook/backup\" # Full path to backup directory\n",
      "BackupScript_Execute=\"No\" # \"Yes\" = run script; \"No\" = do not run script\n",
      "BackupScript_Overwrite=\"No\" # \"Yes\" = overwrite preexising backup; \"No\" = do NOT overwrite preexisting backup\n",
      "BackupScript_Protect=\"No\" # \"Yes\" = protect backup via file permissions '444'; \"No\" = do not protect"
     ],
     "language": "python",
     "metadata": {},
     "outputs": [],
     "prompt_number": 110
    },
    {
     "cell_type": "code",
     "collapsed": false,
     "input": [
      "#---------- User should not change anything below this point ----------#"
     ],
     "language": "python",
     "metadata": {},
     "outputs": [],
     "prompt_number": 111
    },
    {
     "cell_type": "code",
     "collapsed": false,
     "input": [
      "%%bash -s  \"$BackupScript_Directory\" \"$BackupScript_Execute\" \"$BackupScript_Overwrite\" \"BackupScript_Protect\"\n",
      "\n",
      "if [ \"$#\" -ne 4 ]; then\n",
      "    echo -e \"\\nError: The 'Backup Logbook' script requires two arguments:\"\n",
      "    echo -e   \"Usage: $./BackupLogbook.sh <directory> <execute> <overwrite> <protect>\"\n",
      "    echo -e   \"       where <directory> = Full directory path for backup\"\n",
      "    echo -e   \"             <execute> = Yes/No to run the script\"\n",
      "    echo -e   \"             <overwrite> = Yes/No to overwrite existing backup\"\n",
      "    echo -e   \"             <protect> = Yes/No to overwrite existing backup\"\n",
      "    echo -e \"\"\n",
      "    exit\n",
      "fi\n",
      "\n",
      "if [ \"$2\" == \"No\" ]; then\n",
      "    echo -e \"\\nThis script is not flagged for execution. Set 'ListScript_Execute' flag to 'Yes' to execute\"\n",
      "    exit\n",
      "fi\n",
      "\n",
      "FullPath=$1\n",
      "RootDir=${FullPath:0:6}\n",
      "if [ \"$RootDir\" == \"/data/\" ]; then\n",
      "    echo -e \"\\nError: Backups of the Logbook are not presently allowed on the /data partition!\"\n",
      "    echo -e   \"       Please store your backups elsewhere, preferably in your directory on /home\\n\"\n",
      "    exit\n",
      "fi\n",
      "\n",
      "if [ -d $1 ]; then\n",
      "     if [ \"$3\" == \"No\" ]; then\n",
      "        echo -e \"\\nA backup of this logbook already exists at $1! Set 'BackupScript_Overwrite' to 'Yes' to overwrite.\"\n",
      "        echo -e   \"Please exercise CAUTION when using this option!\\n\"\n",
      "        exit\n",
      "    elif [ \"$3\" == \"Yes\" ]; then\n",
      "        chmod 755 $1\n",
      "        rm $1 -rf\n",
      "        mkdir $1\n",
      "    fi  \n",
      "else\n",
      "    mkdir -p $1\n",
      "fi\n",
      "\n",
      "EntryList=$(find /data -name 'LogbookEntry-*.ipynb')\n",
      "for Entry in $EntryList; do\n",
      "    cp -v $Entry $1\n",
      "done\n",
      "\n",
      "if [ \"$4\" == \"Yes\" ]; then\n",
      "    chmod 444 $1/*.ipynb\n",
      "    chmod 555 $1\n",
      "fi"
     ],
     "language": "python",
     "metadata": {},
     "outputs": [
      {
       "output_type": "stream",
       "stream": "stdout",
       "text": [
        "\n",
        "This script is not flagged for execution. Set 'ListScript_Execute' flag to 'Yes' to execute\n"
       ]
      }
     ],
     "prompt_number": 112
    },
    {
     "cell_type": "code",
     "collapsed": false,
     "input": [],
     "language": "python",
     "metadata": {},
     "outputs": []
    }
   ],
   "metadata": {}
  }
 ]
}