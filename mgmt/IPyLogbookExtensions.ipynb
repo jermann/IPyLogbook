{
 "cells": [
  {
   "cell_type": "markdown",
   "metadata": {},
   "source": [
    "# IPyLogbook Extensions"
   ]
  },
  {
   "cell_type": "markdown",
   "metadata": {},
   "source": [
    "This IPython notebook can be used to configure the [IPython-notebook-extensions](https://github.com/ipython-contrib/IPython-notebook-extensions) that are used to enhance the IPyLogbook system. The user can choose which extensions will be loaded automatically when the notebook server is started. A customized version of the IPython-notebook-extensions should be installed in the .ipython/nbextensions directory in order to be used. A custom version is primarily being used to correct bugs found in the official GitHub development version.\n",
    "\n",
    "The user should be warned that the python-markdown extension is crucial to ensure that URLs with the Markdown cells are correctly set!\n",
    "\n",
    "To configure extensions:\n",
    "1. Set each of the extension flags in the following cell to 'True' (enabled) or 'None' (disabled)\n",
    "2. Run all cells via the *Cell $\\rightarrow$ Run All* menu option\n",
    "3. Save the notebook via the *File $\\rightarrow$ Save and Checkpoint* menu option or the *Ctrl-s* key binding\n",
    "4. Restart the IPython notebook server for changes to take affect\n"
   ]
  },
  {
   "cell_type": "code",
   "execution_count": 1,
   "metadata": {
    "collapsed": true,
    "run_control": {
     "read_only": false
    }
   },
   "outputs": [],
   "source": [
    "# Enable Python variables to by inserted into Markdown cells via the \"{{}}\" syntax\n",
    "use_python_markdown = True\n",
    "\n",
    "# Enable cells to be 'read-only' via 'lock' click button up above-right\n",
    "use_read_only = True\n",
    "\n",
    "# Enable all input cells to be hidden via ' bars'click button above-right\n",
    "use_hide_input_all = True\n",
    "\n",
    "# Enable png/jpg images to be added to notebook by drag-and-drop\n",
    "use_drag_and_drop = True"
   ]
  },
  {
   "cell_type": "markdown",
   "metadata": {},
   "source": [
    "## Load IPython-notebook-extensions ##"
   ]
  },
  {
   "cell_type": "code",
   "execution_count": 2,
   "metadata": {
    "collapsed": false,
    "run_control": {
     "read_only": false
    }
   },
   "outputs": [
    {
     "data": {
      "text/plain": [
       "{u'load_extensions': {u'IPython-notebook-extensions-master/usability/dragdrop/drag-and-drop': True,\n",
       "  u'IPython-notebook-extensions-master/usability/hide_input_all': True,\n",
       "  u'IPython-notebook-extensions-master/usability/python-markdown': True,\n",
       "  u'IPython-notebook-extensions-master/usability/read-only': True}}"
      ]
     },
     "execution_count": 2,
     "metadata": {},
     "output_type": "execute_result"
    }
   ],
   "source": [
    "import IPython\n",
    "from IPython.html.services.config import ConfigManager\n",
    "\n",
    "ip=IPython.get_ipython()\n",
    "ip.ipython_dir\n",
    "\n",
    "extensions_dir = \"IPython-notebook-extensions-master/\"\n",
    "\n",
    "python_markdown = extensions_dir + \"usability/python-markdown\"\n",
    "drag_and_drop = extensions_dir + \"usability/dragdrop/drag-and-drop\"\n",
    "read_only = extensions_dir + \"usability/read-only\"\n",
    "hide_input_all = extensions_dir + \"usability/hide_input_all\"\n",
    "\n",
    "cm = ConfigManager(parent=ip, profile_dir=ip.profile_dir.location)\n",
    "cm.update('notebook', {\"load_extensions\": {python_markdown: use_python_markdown}})\n",
    "cm.update('notebook', {\"load_extensions\": {drag_and_drop: use_drag_and_drop}})\n",
    "cm.update('notebook', {\"load_extensions\": {read_only: use_read_only}})\n",
    "cm.update('notebook', {\"load_extensions\": {hide_input_all: use_hide_input_all}})"
   ]
  },
  {
   "cell_type": "markdown",
   "metadata": {},
   "source": [
    "## List IPython-notebook-extensions"
   ]
  },
  {
   "cell_type": "code",
   "execution_count": 3,
   "metadata": {
    "collapsed": false,
    "run_control": {
     "read_only": false
    }
   },
   "outputs": [
    {
     "data": {
      "text/html": [
       "\n",
       "<table border=\"1\">\n",
       "  <tr>\n",
       "    <th>The following extensions will be automatically loaded by IPyLogbook:</th>\n",
       "  </tr>\n",
       "<tr><td>IPython-notebook-extensions-master/usability/read-only</td>\n",
       "<tr><td>IPython-notebook-extensions-master/usability/python-markdown</td>\n",
       "<tr><td>IPython-notebook-extensions-master/usability/dragdrop/drag-and-drop</td>\n",
       "<tr><td>IPython-notebook-extensions-master/usability/hide_input_all</td>\n",
       "\n",
       "</table>\n"
      ],
      "text/plain": [
       "<IPython.core.display.HTML object>"
      ]
     },
     "execution_count": 3,
     "metadata": {},
     "output_type": "execute_result"
    }
   ],
   "source": [
    "import IPython\n",
    "from IPython.html.services.config import ConfigManager\n",
    "from IPython.html.services.config import ConfigManager\n",
    "from IPython.display import HTML\n",
    "cm = ConfigManager(parent=ip, profile_dir=ip.profile_dir.location)\n",
    "extensions = cm.get('notebook')\n",
    "table = \"\"\n",
    "for ext in extensions['load_extensions']:\n",
    "    table += \"<tr><td>%s</td>\\n\" % (ext)\n",
    "\n",
    "top = \"\"\"\n",
    "<table border=\"1\">\n",
    "  <tr>\n",
    "    <th>The following extensions will be automatically loaded by IPyLogbook:</th>\n",
    "  </tr>\n",
    "\"\"\"\n",
    "bottom = \"\"\"\n",
    "</table>\n",
    "\"\"\"\n",
    "HTML(top + table + bottom)"
   ]
  },
  {
   "cell_type": "code",
   "execution_count": 3,
   "metadata": {
    "collapsed": true,
    "run_control": {
     "read_only": false
    }
   },
   "outputs": [],
   "source": []
  }
 ],
 "metadata": {
  "hide_input": false,
  "kernelspec": {
   "display_name": "Python 2",
   "name": "python2"
  },
  "language_info": {
   "codemirror_mode": {
    "name": "ipython",
    "version": 2
   },
   "file_extension": ".py",
   "mimetype": "text/x-python",
   "name": "python",
   "nbconvert_exporter": "python",
   "pygments_lexer": "ipython2",
   "version": "2.7.5"
  }
 },
 "nbformat": 4,
 "nbformat_minor": 0
}