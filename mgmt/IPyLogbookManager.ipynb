{
 "cells": [
  {
   "cell_type": "markdown",
   "metadata": {},
   "source": [
    "# IPython Logbook Manager"
   ]
  },
  {
   "cell_type": "markdown",
   "metadata": {},
   "source": [
    "This IPython notebook can be used to manage the Logbook via a collection of bash scripts that handle the listing, creating, and backing up of the logbook entries. Each subsection title corresponds to the function performed by the bash script contained within. The subsection is divided into two parts: the first contains variables that must set by the user for the bash script; the second contains the script itself. The user should execute an action only by *individual cell executations* of only those cells that pertain to the action he/she wishes to enact. \n",
    "\n",
    "Two layers of protection are implemented to prevent accidental executation of a script. The first is that - by default - the bash script cells are marked 'read only' using the IPython-notebook-extension 'read-only.js': the user must click the little 'lock' icon at the upper-right. The second is that the user must set a 'Script_Execute' flag to 'Yes'. Despite these protections, it is strongly recommended that the user ** not execute a *Cell $\\rightarrow$ Run All* command** while working within this notebook!"
   ]
  },
  {
   "cell_type": "code",
   "execution_count": 5,
   "metadata": {
    "collapsed": false,
    "run_control": {
     "read_only": false
    }
   },
   "outputs": [],
   "source": [
    "import ConfigParser\n",
    "CP = ConfigParser.ConfigParser()\n",
    "CP.read(\"../.config\")\n",
    "head = CP.get('IPyLogbook-Config','head')\n",
    "url = CP.get('IPyLogbook-Config','url')\n",
    "port = CP.get('IPyLogbook-Config','ssh-port')\n",
    "\n",
    "headLink=\"[Logbook HEAD](\"+url+\":\"+port+\"/tree)\"\n",
    "extensionsLink=\"[Logbook Extensions](\"+url+\":\"+port+\"/notebooks/IPyLogbook/mgmt/IPyLogbookExtensions.ipynb)\"\n",
    "indexLink=\"[Logbook Index](\"+url+\":\"+port+\"/notebooks/IPyLogbook/IPyLogbookIndex.ipynb)\"\n",
    "usersguideLink=\"[Logbook User Guide](\"+url+\":\"+port+\"/notebooks/IPyLogbook/doc/IPyLogbookUsersGuide.ipynb)\""
   ]
  },
  {
   "cell_type": "markdown",
   "metadata": {},
   "source": [
    "## Create Logbook Entry"
   ]
  },
  {
   "cell_type": "markdown",
   "metadata": {
    "variables": {
     "indexLink": "<a target=\"_blank\" href=\"http://localhost:8888/notebooks/IPyLogbook/IPyLogbookIndex.ipynb\">Logbook Index</a>"
    }
   },
   "source": [
    "When creating a new logbook entry, don't forget to update the {{indexLink}} accordingly!  \n",
    "To create a logbook entry, please set the following variables appropriately:"
   ]
  },
  {
   "cell_type": "code",
   "execution_count": 198,
   "metadata": {
    "collapsed": false,
    "run_control": {
     "read_only": false
    }
   },
   "outputs": [],
   "source": [
    "CreateScript_Dir=head+\"/experiment/20140101\" # Abs. path to directory where Logbook entry will be created\n",
    "CreateScript_Name=\"20140101\" # Name of the Logbook entry (will be used in name if notebook file)\n",
    "CreateScript_Execute=\"No\" # \"Yes\" = run script; \"No\" = do not run script\n",
    "CreateScript_Overwrite=\"No\"  # \"Yes\" = overwrite preexising log entry; \"No\" = do NOT overwrite preexisting log entry"
   ]
  },
  {
   "cell_type": "code",
   "execution_count": 199,
   "metadata": {
    "collapsed": true,
    "run_control": {
     "read_only": false
    }
   },
   "outputs": [],
   "source": [
    "#-------------------- The user should not need to set anything below this line --------------------#"
   ]
  },
  {
   "cell_type": "code",
   "execution_count": 200,
   "metadata": {
    "collapsed": false,
    "run_control": {
     "read_only": true
    }
   },
   "outputs": [
    {
     "name": "stdout",
     "output_type": "stream",
     "text": [
      "\n",
      "This script is not flagged for execution. Set 'CreateScript_Execute' flag to 'Yes' to execute\n"
     ]
    }
   ],
   "source": [
    "%%bash -s \"$CreateScript_Dir\" \"$CreateScript_Name\" \"$CreateScript_Execute\" \"$CreateScript_Overwrite\" \"$head\"\n",
    "\n",
    "if [ \"$#\" -ne 5 ]; then\n",
    "    echo -e \"\\nError: This script requires four arguments that should be set by the user!\"\n",
    "    echo -e   \"arg1 : Absolute path to where new Logbook entry will be created\n",
    "    echo -e   \"arg2 : Name of the new Logbook entry\n",
    "    echo -e   \"arg3 : Yes/No to run the script\"\n",
    "    echo -e   \"arg4 : Yes/No to overwrite an existing Logbook entry with the name specified\"\n",
    "    echo -e   \"arg5 : Full path to the HEAD directory\\n\"\n",
    "    exit\n",
    "fi\n",
    "\n",
    "# Ensure that the user has intentionally flagged this script to run\n",
    "if [ \"$3\" == \"No\" ]; then\n",
    "    echo -e \"\\nThis script is not flagged for execution. Set 'CreateScript_Execute' flag to 'Yes' to execute\"\n",
    "    exit\n",
    "fi\n",
    "\n",
    "# Set full path to the directory containing the new entry\n",
    "EntryDir=$1\n",
    "\n",
    "# Set the new entry's file name\n",
    "EntryName=\"IPyLogbookEntry-\"$2\".ipynb\"\n",
    "\n",
    "# Set the full path to the new entry file\n",
    "Entry=$EntryDir/$EntryName\n",
    "\n",
    "# If the directory does NOT exist then create it\n",
    "if [ ! -d $EntryDir ]; then\n",
    "    mkdir -p $EntryDir\n",
    "\n",
    "# If the directory DOES exist then...\n",
    "else\n",
    "    # ... overwrite the preexisting Logbook entry if the user has granted permission to do so\n",
    "    if [ \"$4\" == \"No\" ]; then\n",
    "        echo -e \"\\nWARNING : The Logbook entry '$Entry' already exists!\"\n",
    "        echo -e   \"          You may set the above 'CreateScript_Overwrite' parameter to 'Yes' to overwrite this entry,\"\n",
    "        echo -e   \"          but you should exercise extreme caution when using this option!\\n\"\n",
    "        exit\n",
    "    fi\n",
    "fi\n",
    "\n",
    "# Set the Logbook entry template to be copied to the new Logbook entry and copy it\n",
    "EntryTemplate=\"IPyLogbookEntryTemplate.ipynb\"\n",
    "cp $EntryTemplate $Entry\n",
    "\n",
    "# Place a symbolic link to the IPyLogbook config file so that the new Logbook entry will have access to it\n",
    "if [ \"$4\" == \"Yes\" ]; then\n",
    "    rm $EntryDir/.config -f\n",
    "fi\n",
    "    \n",
    "ln -s $5/IPyLogbook/.config $EntryDir/.config\n",
    "\n",
    "echo -e \"\\nA new Logbook entry was successfully created at:\\n\"\n",
    "echo -e \"    $Entry\\n\""
   ]
  },
  {
   "cell_type": "markdown",
   "metadata": {},
   "source": [
    "## List Logbook Entries"
   ]
  },
  {
   "cell_type": "markdown",
   "metadata": {},
   "source": [
    "To list the available logbook entries, please set the following variables appropriately:"
   ]
  },
  {
   "cell_type": "code",
   "execution_count": 201,
   "metadata": {
    "collapsed": false,
    "run_control": {
     "read_only": false
    }
   },
   "outputs": [],
   "source": [
    "ListScript_Execute=\"No\" # \"Yes\" = run script; \"No\" = do not run script"
   ]
  },
  {
   "cell_type": "code",
   "execution_count": 202,
   "metadata": {
    "collapsed": true,
    "run_control": {
     "read_only": false
    }
   },
   "outputs": [],
   "source": [
    "#-------------------- The user should not need to set anything below this line --------------------#"
   ]
  },
  {
   "cell_type": "code",
   "execution_count": 203,
   "metadata": {
    "collapsed": false,
    "run_control": {
     "read_only": true
    }
   },
   "outputs": [
    {
     "name": "stdout",
     "output_type": "stream",
     "text": [
      "\n",
      "This script is not flagged for execution. Set 'ListScript_Execute' flag to 'Yes' to execute.\n"
     ]
    }
   ],
   "source": [
    "%%bash -s \"$ListScript_Execute\" \"$head\"\n",
    "\n",
    "if [ \"$#\" -ne 2 ]; then\n",
    "    echo -e \"\\nError: This script requires four arguments that should be set by the user!\"\n",
    "    echo -e   \"arg1 : Yes/No to run the script\"\n",
    "    echo -e   \"arg2 : Full path to the HEAD directory\\n\"\n",
    "    exit\n",
    "fi\n",
    "\n",
    "# Ensure that the user has intentionally flagged this script to run\n",
    "if [ \"$1\" == \"No\" ]; then\n",
    "    echo -e \"\\nThis script is not flagged for execution. Set 'ListScript_Execute' flag to 'Yes' to execute\".\n",
    "    exit\n",
    "fi\n",
    "\n",
    "find $2 -name \"IPyLogbookEntry-*.ipynb\""
   ]
  },
  {
   "cell_type": "markdown",
   "metadata": {},
   "source": [
    "## Backup Logbook"
   ]
  },
  {
   "cell_type": "markdown",
   "metadata": {},
   "source": [
    "To backup the logbook to the directory of your choice, please set the following variables appropriately:"
   ]
  },
  {
   "cell_type": "code",
   "execution_count": 207,
   "metadata": {
    "collapsed": false,
    "run_control": {
     "read_only": false
    }
   },
   "outputs": [],
   "source": [
    "BackupScript_Directory=\"/home/hartwig/logbook/backup\" # Full path to backup directory\n",
    "BackupScript_Execute=\"No\" # \"Yes\" = run script; \"No\" = do not run script\n",
    "BackupScript_Overwrite=\"No\" # \"Yes\" = overwrite preexising backup; \"No\" = do NOT overwrite preexisting backup"
   ]
  },
  {
   "cell_type": "code",
   "execution_count": 208,
   "metadata": {
    "collapsed": true,
    "run_control": {
     "read_only": false
    }
   },
   "outputs": [],
   "source": [
    "#-------------------- The user should not need to set anything below this line --------------------#"
   ]
  },
  {
   "cell_type": "code",
   "execution_count": 209,
   "metadata": {
    "collapsed": false,
    "run_control": {
     "read_only": true
    }
   },
   "outputs": [
    {
     "name": "stdout",
     "output_type": "stream",
     "text": [
      "\n",
      "This script is not flagged for execution. Set 'ListScript_Execute' flag to 'Yes' to execute\n"
     ]
    }
   ],
   "source": [
    "%%bash -s  \"$BackupScript_Directory\" \"$BackupScript_Execute\" \"$BackupScript_Overwrite\" \"$head\"\n",
    "\n",
    "# Ensure correct number or arguments are passed; provide helpful output\n",
    "if [ \"$#\" -ne 4 ]; then\n",
    "    echo -e \"\\nError: This script requires four arguments that should be set by the user!\"\n",
    "    echo -e   \"arg1 : Absolute path to where the Logbook will be backed up\"\n",
    "    echo -e   \"arg2 : Yes/No to run the script\"\n",
    "    echo -e   \"arg3 : Yes/No to overwrite an existing Logbook entry with the name specified\"\n",
    "    echo -e   \"arg4 : Full path to the HEAD directory\\n\"\n",
    "     exit\n",
    "fi\n",
    "\n",
    "# Put cmd line args into reasonably named variables\n",
    "Directory=$1\n",
    "Execute=$2\n",
    "Overwrite=$3\n",
    "Head=$4\n",
    "\n",
    "# Ensure that the user has intentionally flagged this script to run\n",
    "if [ \"$Execute\" == \"No\" ]; then\n",
    "    echo -e \"\\nThis script is not flagged for execution. Set 'ListScript_Execute' flag to 'Yes' to execute\"\n",
    "    exit\n",
    "fi\n",
    "\n",
    "# Check to see if a directory already exists where the backup will be made\n",
    "if [ -d $Directory ]; then\n",
    "    # Prevent overwriting the directory; provide advice to overwrite\n",
    "     if [ \"$Overwrite\" == \"No\" ]; then\n",
    "        echo -e \"\\nA backup of this logbook already exists at $1! Set 'BackupScript_Overwrite' to 'Yes' to overwrite.\"\n",
    "        echo -e   \"Please exercise CAUTION when using this option!\\n\"\n",
    "        exit\n",
    "        \n",
    "    # Remove and recreate the directory\n",
    "    elif [ \"$Overwrite\" == \"Yes\" ]; then\n",
    "        chmod 755 $Directory\n",
    "        rm $Directory -rf\n",
    "        mkdir $Directory\n",
    "    fi  \n",
    "else\n",
    "    mkdir -p $Directory\n",
    "fi\n",
    "\n",
    "# Change to the IPyLogbook HEAD directory and copy all of the IPyLogbook entries to\n",
    "# the specified directory being sure to preserve the directory structure!\n",
    "cd $Head\n",
    "EntryList=$(find . -name 'IPyLogbookEntry-*.ipynb' | grep -v '.ipynb_checkpoints')\n",
    "for Entry in $EntryList; do\n",
    "    Entry=${Entry#.\\/}\n",
    "    cp --parents $Entry $Directory\n",
    "done\n",
    "\n",
    "cat > $Directory/README.txt << EOL\n",
    "                              *************\n",
    "                              ** WARNING **\n",
    "                              *************\n",
    "                              \n",
    "This directory contains a backup of an IPyLogbook! Please treat with respect!\n",
    "\n",
    "EOL\n",
    "Date=$(date)\n",
    "\n",
    "echo \"name: README.txt\" >> $Directory/README.txt\n",
    "echo \"date: \"$Date >> $Directory/README.txt\n",
    "\n",
    "echo -e \"\\nA backup of this IPyLogbook was created at $Directory that includes the following files:\"\n",
    "\n",
    "for Entry in $EntryList; do\n",
    "    Entry=${Entry#.\\/}\n",
    "    echo \"  \"$Entry  \n",
    "done"
   ]
  },
  {
   "cell_type": "markdown",
   "metadata": {
    "collapsed": false,
    "run_control": {
     "read_only": false
    }
   },
   "source": [
    "---"
   ]
  },
  {
   "cell_type": "markdown",
   "metadata": {
    "variables": {
     "extensionsLink": "<a target=\"_blank\" href=\"http://localhost:8888/notebooks/IPyLogbook/mgmt/IPyLogbookExtensions.ipynb\">Logbook Extensions</a>",
     "headLink": "<a target=\"_blank\" href=\"http://localhost:8888/tree\">Logbook HEAD</a>",
     "indexLink": "<a target=\"_blank\" href=\"http://localhost:8888/notebooks/IPyLogbook/IPyLogbookIndex.ipynb\">Logbook Index</a>",
     "usersguideLink": "<a target=\"_blank\" href=\"http://localhost:8888/notebooks/IPyLogbook/doc/IPyLogbookUsersGuide.ipynb\">Logbook User Guide</a>"
    }
   },
   "source": [
    "## <center> Logbook Navigation</center>\n",
    "<center>{{headLink}} --- {{extensionsLink}} --- {{indexLink}} --- {{usersguideLink}}</center>"
   ]
  },
  {
   "cell_type": "code",
   "execution_count": null,
   "metadata": {
    "collapsed": true,
    "run_control": {
     "read_only": false
    }
   },
   "outputs": [],
   "source": []
  }
 ],
 "metadata": {
  "hide_input": false,
  "kernelspec": {
   "display_name": "IPython (Python 2)",
   "name": "python2"
  },
  "language_info": {
   "codemirror_mode": {
    "name": "ipython",
    "version": 2
   },
   "file_extension": ".py",
   "mimetype": "text/x-python",
   "name": "python",
   "nbconvert_exporter": "python",
   "pygments_lexer": "ipython2",
   "version": "2.7.5"
  },
  "signature": "sha256:3579ee7d064d8f75dc6de0ce573ee0423faba31064e3fea247a6c2b98ba21a97"
 },
 "nbformat": 4,
 "nbformat_minor": 0
}