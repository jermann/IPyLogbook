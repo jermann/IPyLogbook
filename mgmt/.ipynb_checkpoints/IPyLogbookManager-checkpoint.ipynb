{
 "cells": [
  {
   "cell_type": "markdown",
   "metadata": {},
   "source": [
    "# IPython Logbook Manager"
   ]
  },
  {
   "cell_type": "markdown",
   "metadata": {},
   "source": [
    "This IPython notebook can be used to manage the Logbook via a collection of bash scripts that handle the listing, creating, and backing up of the logbook entries. Each subsection title corresponds to the function performed by the bash script contained within. The subsection is divided into two parts: the first contains variables that must set by the user for the bash script; the second contains the script itself. The user should execute an action only by *individual cell executations* of only those cells that pertain to the action he/she wishes to enact. \n",
    "\n",
    "Two layers of protection are implemented to prevent accidental executation of a script. The first is that - by default - the bash script cells are marked 'read only' using the IPython-notebook-extension 'read-only.js': the user must click the little 'lock' icon at the upper-right. The second is that the user must set a '\\&Script_Execute' flag to 'Yes'. Despite these protections, it is strongly recommended that the user ** not execute a *Cell $\\rightarrow$ Run All* command** while working within this notebook!"
   ]
  },
  {
   "cell_type": "code",
   "execution_count": 48,
   "metadata": {
    "collapsed": false,
    "run_control": {
     "read_only": false
    }
   },
   "outputs": [],
   "source": [
    "import ConfigParser\n",
    "CP = ConfigParser.ConfigParser()\n",
    "CP.read(\"../.config\")\n",
    "url = CP.get('IPyLogbook-Config','url')\n",
    "port = CP.get('IPyLogbook-Config','ssh-port')\n",
    "\n",
    "index=\"[Logbook Index](\"+url+\":\"+port+\"/notebooks/IPyLogbookIndex.ipynb)\"\n",
    "usersguide=\"[Learn to use the logbook](\"+url+\":\"+port+\"/notebooks/doc/IPyLogbookUsersGuide.ipynb)\""
   ]
  },
  {
   "cell_type": "markdown",
   "metadata": {},
   "source": [
    "## Create Logbook Entry"
   ]
  },
  {
   "cell_type": "markdown",
   "metadata": {
    "variables": {
     "index": "<a target=\"_blank\" href=\"http://localhost:8888/notebooks/IPyLogbookIndex.ipynb\">Logbook Index</a>"
    }
   },
   "source": [
    "When creating a new logbook entry, don't forget to update the {{index}} accordingly!  \n",
    "To create a logbook entry, please set the following variables appropriately:"
   ]
  },
  {
   "cell_type": "code",
   "execution_count": 49,
   "metadata": {
    "collapsed": false,
    "run_control": {
     "read_only": false
    }
   },
   "outputs": [],
   "source": [
    "CreateScript_Date=\"20141118\" # \"YYYYDDMM\" : YYYY=year, MM=month, DD=day\n",
    "CreateScript_Execute=\"Yes\"   # \"Yes\" = run script; \"No\" = do not run script\n",
    "CreateScript_Overwrite=\"Yes\"  # \"Yes\" = overwrite preexising log entry; \"No\" = do NOT overwrite preexisting log entry"
   ]
  },
  {
   "cell_type": "code",
   "execution_count": 50,
   "metadata": {
    "collapsed": false,
    "run_control": {
     "read_only": false
    }
   },
   "outputs": [],
   "source": [
    "#---------- User should not change anything below this point ----------#"
   ]
  },
  {
   "cell_type": "code",
   "execution_count": 52,
   "metadata": {
    "collapsed": false,
    "run_control": {
     "read_only": true
    }
   },
   "outputs": [
    {
     "name": "stdout",
     "output_type": "stream",
     "text": [
      "\n",
      "A logbook entry entitled '../20141118/IPyLogbookEntry-20141118.ipynb' was successfully created!\n",
      "\n"
     ]
    }
   ],
   "source": [
    "%%bash -s \"$CreateScript_Date\" \"$CreateScript_Execute\" \"$CreateScript_Overwrite\"\n",
    "\n",
    "if [ \"$#\" -ne 3 ]; then\n",
    "    echo -e \"\\nError: This script requires two arguments from the ExperimentLogbookManager:\"\n",
    "    echo -e   \"Usage: $./CreateLogbookEntry.sh <date> <execute> <overwrite>\"\n",
    "    echo -e   \"       where <data> = experiment data in YYYYMMDD format\"\n",
    "    echo -e   \"             <execute> = yes/no to run the script\"\n",
    "    echo -e   \"             <overwrite> = yes/no to overwrite existing logfile\"\n",
    "    echo -e \"\"\n",
    "    exit\n",
    "fi\n",
    "\n",
    "if [ \"$2\" == \"No\" ]; then\n",
    "    echo -e \"\\nThis script is not flagged for execution. Set 'CreateScript_Execute' flag to 'Yes' to execute\"\n",
    "    exit\n",
    "fi\n",
    "\n",
    "EntryDir=../$1\"/\"\n",
    "EntryName=\"IPyLogbookEntry-\"$1\".ipynb\"\n",
    "Entry=$EntryDir$EntryName\n",
    "\n",
    "# If the directory does NOT exist then create it\n",
    "if [ ! -d $EntryDir ]; then\n",
    "    mkdir -p $EntryDir\n",
    "\n",
    "# If the directory DOES exist then...\n",
    "else\n",
    "    # ... overwrite if the user has granted permission to do so\n",
    "    if [ \"$3\" == \"No\" ]; then\n",
    "        echo -e \"\\nA logbook entry for $1 already exists! You may set the above\"\n",
    "        echo -e \"'CreateScript_Overwrite' to 'Yes' to overwrite this entry, but\"\n",
    "        echo -e  \"you should exercise extreme CAUTION when using this option!\\n\"\n",
    "        exit\n",
    "    fi\n",
    "fi\n",
    "\n",
    "EntryTemplate=\"IPyLogbookEntryTemplate.ipynb\"\n",
    "cp $EntryTemplate $Entry\n",
    "echo -e \"\\nA logbook entry entitled '$Entry' was successfully created!\\n\""
   ]
  },
  {
   "cell_type": "markdown",
   "metadata": {},
   "source": [
    "## List Logbook Entries"
   ]
  },
  {
   "cell_type": "markdown",
   "metadata": {},
   "source": [
    "To list the available logbook entries, please set the following variables appropriately:"
   ]
  },
  {
   "cell_type": "code",
   "execution_count": 113,
   "metadata": {
    "collapsed": false,
    "run_control": {
     "read_only": false
    }
   },
   "outputs": [],
   "source": [
    "ListScript_Execute=\"No\" # \"Yes\" = run script; \"No\" = do not run script"
   ]
  },
  {
   "cell_type": "code",
   "execution_count": 114,
   "metadata": {
    "collapsed": false,
    "run_control": {
     "read_only": false
    }
   },
   "outputs": [],
   "source": [
    "#---------- User should not change anything below this point ----------#"
   ]
  },
  {
   "cell_type": "code",
   "execution_count": 47,
   "metadata": {
    "collapsed": false,
    "run_control": {
     "read_only": true
    }
   },
   "outputs": [
    {
     "name": "stdout",
     "output_type": "stream",
     "text": [
      "../20141118/IPyLogbookEntry-20141118.ipynb\n"
     ]
    }
   ],
   "source": [
    "%%bash -s \"$ListScript_Execute\"\n",
    "\n",
    "if [ \"$#\" -ne 1 ]; then\n",
    "    echo -e \"\\nError: The 'List Logbook Entries' script requires two arguments:\"\n",
    "    echo -e   \"Usage: $./ListLogbookEntries.sh <execute>\"\n",
    "    echo -e   \"       where <execute> = yes/no to run the script\"\n",
    "    echo -e \"\"\n",
    "    exit\n",
    "fi\n",
    "\n",
    "if [ \"$1\" == \"No\" ]; then\n",
    "    echo -e \"\\nThis script is not flagged for execution. Set 'ListScript_Execute' flag to 'Yes' to execute\".\n",
    "    exit\n",
    "fi\n",
    "\n",
    "find ../ -name \"IPyLogbookEntry-*.ipynb\""
   ]
  },
  {
   "cell_type": "markdown",
   "metadata": {},
   "source": [
    "## Backup Logbook"
   ]
  },
  {
   "cell_type": "markdown",
   "metadata": {},
   "source": [
    "To backup the logbook to the directory of your choice, please set the following variables appropriately:"
   ]
  },
  {
   "cell_type": "code",
   "execution_count": 110,
   "metadata": {
    "collapsed": false,
    "run_control": {
     "read_only": false
    }
   },
   "outputs": [],
   "source": [
    "BackupScript_Directory=\"/home/hartwig/logbook/backup\" # Full path to backup directory\n",
    "BackupScript_Execute=\"No\" # \"Yes\" = run script; \"No\" = do not run script\n",
    "BackupScript_Overwrite=\"No\" # \"Yes\" = overwrite preexising backup; \"No\" = do NOT overwrite preexisting backup\n",
    "BackupScript_Protect=\"No\" # \"Yes\" = protect backup via file permissions '444'; \"No\" = do not protect"
   ]
  },
  {
   "cell_type": "code",
   "execution_count": 111,
   "metadata": {
    "collapsed": false,
    "run_control": {
     "read_only": false
    }
   },
   "outputs": [],
   "source": [
    "#---------- User should not change anything below this point ----------#"
   ]
  },
  {
   "cell_type": "code",
   "execution_count": 112,
   "metadata": {
    "collapsed": false,
    "run_control": {
     "read_only": true
    }
   },
   "outputs": [
    {
     "name": "stdout",
     "output_type": "stream",
     "text": [
      "\n",
      "This script is not flagged for execution. Set 'ListScript_Execute' flag to 'Yes' to execute\n"
     ]
    }
   ],
   "source": [
    "%%bash -s  \"$BackupScript_Directory\" \"$BackupScript_Execute\" \"$BackupScript_Overwrite\" \"BackupScript_Protect\"\n",
    "\n",
    "if [ \"$#\" -ne 4 ]; then\n",
    "    echo -e \"\\nError: The 'Backup Logbook' script requires two arguments:\"\n",
    "    echo -e   \"Usage: $./BackupLogbook.sh <directory> <execute> <overwrite> <protect>\"\n",
    "    echo -e   \"       where <directory> = Full directory path for backup\"\n",
    "    echo -e   \"             <execute> = Yes/No to run the script\"\n",
    "    echo -e   \"             <overwrite> = Yes/No to overwrite existing backup\"\n",
    "    echo -e   \"             <protect> = Yes/No to overwrite existing backup\"\n",
    "    echo -e \"\"\n",
    "    exit\n",
    "fi\n",
    "\n",
    "if [ \"$2\" == \"No\" ]; then\n",
    "    echo -e \"\\nThis script is not flagged for execution. Set 'ListScript_Execute' flag to 'Yes' to execute\"\n",
    "    exit\n",
    "fi\n",
    "\n",
    "FullPath=$1\n",
    "RootDir=${FullPath:0:6}\n",
    "if [ \"$RootDir\" == \"/data/\" ]; then\n",
    "    echo -e \"\\nError: Backups of the Logbook are not presently allowed on the /data partition!\"\n",
    "    echo -e   \"       Please store your backups elsewhere, preferably in your directory on /home\\n\"\n",
    "    exit\n",
    "fi\n",
    "\n",
    "if [ -d $1 ]; then\n",
    "     if [ \"$3\" == \"No\" ]; then\n",
    "        echo -e \"\\nA backup of this logbook already exists at $1! Set 'BackupScript_Overwrite' to 'Yes' to overwrite.\"\n",
    "        echo -e   \"Please exercise CAUTION when using this option!\\n\"\n",
    "        exit\n",
    "    elif [ \"$3\" == \"Yes\" ]; then\n",
    "        chmod 755 $1\n",
    "        rm $1 -rf\n",
    "        mkdir $1\n",
    "    fi  \n",
    "else\n",
    "    mkdir -p $1\n",
    "fi\n",
    "\n",
    "EntryList=$(find /data -name 'IPyLogbookEntry-*.ipynb')\n",
    "for Entry in $EntryList; do\n",
    "    cp -v $Entry $1\n",
    "done\n",
    "\n",
    "if [ \"$4\" == \"Yes\" ]; then\n",
    "    chmod 444 $1/*.ipynb\n",
    "    chmod 555 $1\n",
    "fi"
   ]
  },
  {
   "cell_type": "code",
   "execution_count": null,
   "metadata": {
    "collapsed": false,
    "run_control": {
     "read_only": false
    }
   },
   "outputs": [],
   "source": []
  }
 ],
 "metadata": {
  "hide_input": false,
  "kernelspec": {
   "display_name": "IPython (Python 2)",
   "name": "python2"
  },
  "language_info": {
   "codemirror_mode": {
    "name": "ipython",
    "version": 2
   },
   "file_extension": ".py",
   "mimetype": "text/x-python",
   "name": "python",
   "nbconvert_exporter": "python",
   "pygments_lexer": "ipython2",
   "version": "2.7.5"
  },
  "signature": "sha256:408bf7fd71b8db6d9360249e798e0d1d9ab36b83bfefd93006173cbf822cda0f"
 },
 "nbformat": 4,
 "nbformat_minor": 0
}