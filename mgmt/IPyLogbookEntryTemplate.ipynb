{
 "cells": [
  {
   "cell_type": "code",
   "execution_count": null,
   "metadata": {
    "collapsed": false,
    "run_control": {
     "read_only": false
    }
   },
   "outputs": [],
   "source": [
    "import ConfigParser\n",
    "CP = ConfigParser.ConfigParser()\n",
    "CP.read(\".config\")\n",
    "url = CP.get('IPyLogbook-Config','url')\n",
    "port = CP.get('IPyLogbook-Config','ssh-port')\n",
    "name = CP.get('IPyLogbook-Config','name')\n",
    "\n",
    "headLink=\"[Logbook HEAD](\"+url+\":\"+port+\"/tree)\"\n",
    "extensionsLink=\"[Logbook Extensions](\"+url+\":\"+port+\"/notebooks/IPyLogbook/mgmt/IPyLogbookExtensions.ipynb)\"\n",
    "indexLink=\"[Logbook Index](\"+url+\":\"+port+\"/notebooks/IPyLogbook/IPyLogbookIndex.ipynb)\"\n",
    "usersguideLink=\"[Logbook User Guide](\"+url+\":\"+port+\"/notebooks/IPyLogbook/doc/IPyLogbookUsersGuide.ipynb)\""
   ]
  },
  {
   "cell_type": "markdown",
   "metadata": {
    "variables": {
     "name": "Heart of Gold Experiment"
    }
   },
   "source": [
    "# {{name}} Logbook Entry - Template"
   ]
  },
  {
   "cell_type": "markdown",
   "metadata": {},
   "source": [
    "## Experiment Information"
   ]
  },
  {
   "cell_type": "markdown",
   "metadata": {},
   "source": [
    "*Experiment lead* :  \n",
    "*Experiment date* :  \n",
    "*Experiment desc* :   "
   ]
  },
  {
   "cell_type": "markdown",
   "metadata": {},
   "source": [
    "## Experiment Summary"
   ]
  },
  {
   "cell_type": "markdown",
   "metadata": {},
   "source": []
  },
  {
   "cell_type": "markdown",
   "metadata": {},
   "source": [
    "## Experimental Apparatus Parameters \\#1"
   ]
  },
  {
   "cell_type": "markdown",
   "metadata": {},
   "source": []
  },
  {
   "cell_type": "markdown",
   "metadata": {},
   "source": [
    "## Experimental Apparatus Parameters #2"
   ]
  },
  {
   "cell_type": "markdown",
   "metadata": {},
   "source": []
  },
  {
   "cell_type": "markdown",
   "metadata": {},
   "source": [
    "## Data File Description"
   ]
  },
  {
   "cell_type": "markdown",
   "metadata": {},
   "source": []
  },
  {
   "cell_type": "markdown",
   "metadata": {},
   "source": [
    "## Notes"
   ]
  },
  {
   "cell_type": "markdown",
   "metadata": {},
   "source": []
  },
  {
   "cell_type": "markdown",
   "metadata": {},
   "source": [
    "## Data Analysis and Results"
   ]
  },
  {
   "cell_type": "code",
   "execution_count": 2,
   "metadata": {
    "collapsed": false,
    "run_control": {
     "read_only": false
    }
   },
   "outputs": [],
   "source": [
    "# Include Python classes necessary for inserting graphics\n",
    "from IPython.display import Image, SVG\n",
    "\n",
    "# Include any ROOT classes needed for analysis here:\n",
    "from ROOT import ROOT\n",
    "\n",
    "# Include RIPN for embedded ROOT graphics:\n",
    "from RIPN import ZNotebookCanvas"
   ]
  },
  {
   "cell_type": "markdown",
   "metadata": {
    "collapsed": false,
    "run_control": {
     "read_only": false
    },
    "variables": {
     "extensionsLink": {},
     "headLink": {},
     "indexLink": {},
     "usersguideLink": {}
    }
   },
   "source": [
    "## <center> Logbook Navigation</center>\n",
    "<center>{{headLink}} --- {{extensionsLink}} --- {{indexLink}} --- {{usersguideLink}}</center>"
   ]
  }
 ],
 "metadata": {
  "hide_input": false,
  "kernelspec": {
   "display_name": "IPython (Python 2)",
   "name": "python2"
  },
  "language_info": {
   "codemirror_mode": {
    "name": "ipython",
    "version": 2
   },
   "file_extension": ".py",
   "mimetype": "text/x-python",
   "name": "python",
   "nbconvert_exporter": "python",
   "pygments_lexer": "ipython2",
   "version": "2.7.5"
  },
  "signature": "sha256:494df3d4a7f9b574be2adecff9730e0462c5a8f47409d43f35224e7634e2ca44"
 },
 "nbformat": 4,
 "nbformat_minor": 0
}