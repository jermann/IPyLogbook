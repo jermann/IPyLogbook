{
 "cells": [
  {
   "cell_type": "code",
   "execution_count": 1,
   "metadata": {
    "collapsed": false,
    "run_control": {
     "read_only": false
    }
   },
   "outputs": [],
   "source": [
    "import ConfigParser\n",
    "CP = ConfigParser.ConfigParser()\n",
    "CP.read(\"../../IPyLogbook/.config\")\n",
    "url = CP.get('IPyLogbook-Config','url')\n",
    "port = CP.get('IPyLogbook-Config','ssh-port')\n",
    "name = CP.get('IPyLogbook-Config','name')\n",
    "\n",
    "index=\"[The Logbook Index](\"+url+\":\"+port+\"/notebooks/IPyLogbook/IPyLogbookIndex.ipynb)\"\n",
    "manager=\"[The Logbook Manager](\"+url+\":\"+port+\"/notebooks/IPyLogbook/mgmt/IPyLogbookManager.ipynb)\""
   ]
  },
  {
   "cell_type": "markdown",
   "metadata": {
    "variables": {
     "name": "Heart of Gold Experiment"
    }
   },
   "source": [
    "# {{name}} Logbook Entry - Template"
   ]
  },
  {
   "cell_type": "markdown",
   "metadata": {
    "variables": {
     "index": "<a target=\"_blank\" href=\"https://ec2-54-172-231-107.compute-1.amazonaws.com:8080/notebooks/IPyLogbook/IPyLogbookIndex.ipynb\">The Logbook Index</a>",
     "manager": "<a target=\"_blank\" href=\"https://ec2-54-172-231-107.compute-1.amazonaws.com:8080/notebooks/IPyLogbook/mgmt/IPyLogbookManager.ipynb\">The Logbook Manager</a>"
    }
   },
   "source": [
    "Logbook Navigation : {{index}}; &nbsp; {{manager}}"
   ]
  },
  {
   "cell_type": "markdown",
   "metadata": {},
   "source": [
    "## Experiment Information"
   ]
  },
  {
   "cell_type": "markdown",
   "metadata": {},
   "source": [
    "*Experiment lead* :  \n",
    "*Experiment date* :  \n",
    "*Experiment desc* :   "
   ]
  },
  {
   "cell_type": "markdown",
   "metadata": {},
   "source": [
    "## Experiment Summary"
   ]
  },
  {
   "cell_type": "markdown",
   "metadata": {},
   "source": []
  },
  {
   "cell_type": "markdown",
   "metadata": {},
   "source": [
    "## Experimental Apparatus Parameters \\#1"
   ]
  },
  {
   "cell_type": "markdown",
   "metadata": {},
   "source": []
  },
  {
   "cell_type": "markdown",
   "metadata": {},
   "source": [
    "## Experimental Apparatus Parameters #2"
   ]
  },
  {
   "cell_type": "markdown",
   "metadata": {},
   "source": []
  },
  {
   "cell_type": "markdown",
   "metadata": {},
   "source": [
    "## Data File Description"
   ]
  },
  {
   "cell_type": "markdown",
   "metadata": {},
   "source": []
  },
  {
   "cell_type": "markdown",
   "metadata": {},
   "source": [
    "## Notes"
   ]
  },
  {
   "cell_type": "markdown",
   "metadata": {},
   "source": []
  },
  {
   "cell_type": "markdown",
   "metadata": {},
   "source": [
    "## Data Analysis and Results"
   ]
  },
  {
   "cell_type": "code",
   "execution_count": 2,
   "metadata": {
    "collapsed": false,
    "run_control": {
     "read_only": false
    }
   },
   "outputs": [],
   "source": [
    "# Include Python classes necessary for inserting graphics\n",
    "from IPython.display import Image, SVG\n",
    "\n",
    "# Include any ROOT classes needed for analysis here:\n",
    "from ROOT import ROOT\n",
    "\n",
    "# Include RIPN for embedded ROOT graphics:\n",
    "from RIPN import ZNotebookCanvas"
   ]
  },
  {
   "cell_type": "code",
   "execution_count": 1,
   "metadata": {
    "collapsed": false,
    "run_control": {
     "read_only": false
    }
   },
   "outputs": [],
   "source": []
  }
 ],
 "metadata": {
  "hide_input": false,
  "kernelspec": {
   "display_name": "IPython (Python 2)",
   "name": "python2"
  },
  "language_info": {
   "codemirror_mode": {
    "name": "ipython",
    "version": 2
   },
   "file_extension": ".py",
   "mimetype": "text/x-python",
   "name": "python",
   "nbconvert_exporter": "python",
   "pygments_lexer": "ipython2",
   "version": "2.7.3"
  },
  "signature": "sha256:120892ad5369719475de800d3cf45ceb2700da78f89dfca5a147a11f71a3294f"
 },
 "nbformat": 4,
 "nbformat_minor": 0
}